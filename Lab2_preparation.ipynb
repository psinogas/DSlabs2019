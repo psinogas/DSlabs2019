{
 "cells": [
  {
   "cell_type": "markdown",
   "source": [
    "<table bgcolor=#ffffff align=\"center\" width=\"100%\" noborder>\n",
    "    <tr>\n",
    "        <td align=\"left\" width=\"30%\"><img src=\"images/IST_logo.png\" width=\"50%\"></td>\n",
    "        <td width=\"40%\"></td>\n",
    "        <td align=\"right\" width=\"30%\"><img src=\"images/ds_logo.png\" width=\"25%\">\n",
    "    </tr>\n",
    "</table>\n",
    "<h1 align=\"center\" style=\"font-family:Arial;color:#00004d;font-size:40px;\">Data Science Labs</h1>"
   ],
   "metadata": {
    "collapsed": false
   }
  },
  {
   "cell_type": "markdown",
   "source": [
    "<h2 align=\"center\" style=\"font-family:Arial;color:#6c6c6c;font-size:30px;\">Lab 2: Data Preparation</h2>\n"
   ],
   "metadata": {
    "collapsed": false
   }
  },
  {
   "cell_type": "markdown",
   "source": [
    "<h3 style=\"font-family:Arial;color:#6c6c6c;font-size:25px;\">Missing Values Imputation</h3>\n",
    "<h4 style=\"font-family:Arial;color:#6c6c6c;font-size:20px;font-style:italic;\">Variables Type and Domain</h4>"
   ],
   "metadata": {
    "collapsed": false
   }
  },
  {
   "cell_type": "markdown",
   "source": [
    "<h3 style=\"font-family:Arial;color:#6c6c6c;font-size:25px;\">Variable dummification</h3>"
   ],
   "metadata": {
    "collapsed": false
   }
  },
  {
   "cell_type": "markdown",
   "source": [
    "<h3 style=\"font-family:Arial;color:#6c6c6c;font-size:25px;\">Feature selection</h3>"
   ],
   "metadata": {
    "collapsed": false
   }
  },
  {
   "cell_type": "markdown",
   "source": [
    "<h3 style=\"font-family:Arial;color:#6c6c6c;font-size:25px;\">Feature engineering</h3>"
   ],
   "metadata": {
    "collapsed": false
   }
  },
  {
   "cell_type": "markdown",
   "source": [
    "<h3 style=\"font-family:Arial;color:#6c6c6c;font-size:25px;\">Data balancing</h3>\n"
   ],
   "metadata": {
    "collapsed": false
   }
  },
  {
   "cell_type": "markdown",
   "source": [
    "<table bgcolor=#ffffff align=\"center\" width=\"100%\" noborder>\n",
    "    <tr>\n",
    "        <td align=\"center\" width=\"30%\"><a href=\"Lab11_multi_var.ipynb\"><img src=\"images/prev.png\"></a></td>\n",
    "        <td width=\"40%\"></td>\n",
    "        <td align=\"center\" width=\"30%\"><a href=\"Lab30_classification.ipynb\"><img src=\"images/next.png\"></a></td>\n",
    "    </tr>\n",
    "</table>"
   ],
   "metadata": {
    "collapsed": false
   }
  }
 ],
 "metadata": {
  "kernelspec": {
   "display_name": "Python 3",
   "language": "python",
   "name": "python3"
  },
  "language_info": {
   "codemirror_mode": {
    "name": "ipython",
    "version": 3
   },
   "file_extension": ".py",
   "mimetype": "text/x-python",
   "name": "python",
   "nbconvert_exporter": "python",
   "pygments_lexer": "ipython3",
   "version": "3.7.3"
  },
  "pycharm": {
   "stem_cell": {
    "cell_type": "raw",
    "source": [],
    "metadata": {
     "collapsed": false
    }
   }
  }
 },
 "nbformat": 4,
 "nbformat_minor": 1
}