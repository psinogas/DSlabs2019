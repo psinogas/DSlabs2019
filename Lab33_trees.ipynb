{
 "cells": [
  {
   "cell_type": "markdown",
   "source": [
    "<table bgcolor=#ffffff align=\"center\" width=\"100%\" noborder>\n",
    "    <tr>\n",
    "        <td align=\"left\" width=\"30%\"><img src=\"images/IST_logo.png\" width=\"50%\"></td>\n",
    "        <td width=\"40%\"></td>\n",
    "        <td align=\"right\" width=\"30%\"><img src=\"images/ds_logo.png\" width=\"25%\"></td>\n",
    "    </tr>\n",
    "    <tr><td align=\"left\" width=\"30%\"></td>\n",
    "        <td width=\"40%\"><p align=\"center\"><img src=\"images/title.png\"</td>\n",
    "        <td align=\"right\" width=\"30%\"></td>\n",
    "    </tr>\n",
    "</table>"
   ],
   "metadata": {
    "collapsed": false
   }
  },
  {
   "cell_type": "markdown",
   "source": [
    "<h1 align=\"center\" style=\"font-family:Arial;color:#6c6c6c;font-size:30px;\">Lab 3: Classification (cont.)</h1>"
   ],
   "metadata": {
    "collapsed": false
   }
  },
  {
   "cell_type": "markdown",
   "source": [
    "<h2 style=\"font-family:Arial;color:#6c6c6c;font-size:25px;\">Decision Trees</h2>\n",
    "\n",
    "<strong>Decision Trees</strong> are a friendly kind of model for classification, since they are interpretable and easy \n",
    "to apply. They are implemented in the <code>DecisionTreeClassifier</code> of <code>sklearn.tree</code> package.\n",
    "\n",
    "In general, algorithms for training decision trees choose the best variable to split the dataset, in a manner that in \n",
    "each branch we will have a smaller mixture of classes. Then the algorithm repeats in the same way for each branch, until\n",
    "it reaches a <i>pure leaf</i> (a node with all the records of the same class) or there are no more variables to split \n",
    "the data.\n",
    "\n",
    "The choice of the best variable is done according to a <code>criterion</code>: <code>entropy</code> and <code>giny</code>\n",
    "for implementing the <i>information gain</i> and <i>giny impurity</i> functions, respectively. \n",
    "\n",
    "Among the several parameters, the <code>max_depth</code> determines the maximum size of the tree to reach, implementing \n",
    "a pre-pruning strategy. Other parameters with similar effects are the <code>min_samples_leaf</code>, \n",
    "<code>min_samples_split</code> and <code>min_impurity_decrease</code> thresholds, that avoid continuing growing the \n",
    "tree."
   ],
   "metadata": {
    "collapsed": false
   }
  },
  {
   "cell_type": "code",
   "execution_count": 2,
   "outputs": [
    {
     "data": {
      "text/plain": "<Figure size 432x288 with 0 Axes>"
     },
     "metadata": {},
     "output_type": "display_data"
    },
    {
     "data": {
      "text/plain": "<Figure size 1152x288 with 2 Axes>",
      "image/png": "[encoded data removed]"
     },
     "metadata": {
      "needs_background": "light"
     },
     "output_type": "display_data"
    }
   ],
   "source": [
    "import numpy as np\n",
    "import pandas as pd\n",
    "import matplotlib.pyplot as plt\n",
    "from sklearn.model_selection import train_test_split\n",
    "import sklearn.metrics as metrics\n",
    "from sklearn.tree import DecisionTreeClassifier\n",
    "%load functions.ipynb\n",
    "import ipynb.fs.defs.functions as func\n",
    "\n",
    "data: pd.DataFrame = pd.read_csv('data/diabetes.csv')\n",
    "y: np.ndarray = data.pop('class').values\n",
    "X: np.ndarray = data.values\n",
    "labels = pd.unique(y)\n",
    "\n",
    "trnX, tstX, trnY, tstY = train_test_split(X, y, train_size=0.7, stratify=y)\n",
    "\n",
    "min_samples_leaf = [.05, .025, .01, .0075, .005, .0025, .001]\n",
    "max_depths = [5, 10, 25, 50]\n",
    "criteria = ['entropy', 'gini']\n",
    "\n",
    "plt.figure()\n",
    "fig, axs = plt.subplots(1, 2, figsize=(16, 4), squeeze=False)\n",
    "for k in range(len(criteria)):\n",
    "    f = criteria[k]\n",
    "    values = {}\n",
    "    for d in max_depths:\n",
    "        yvalues = []\n",
    "        for n in min_samples_leaf:\n",
    "            rf = DecisionTreeClassifier(min_samples_leaf=n, max_depth=d, criterion=f)\n",
    "            rf.fit(trnX, trnY)\n",
    "            prdY = rf.predict(tstX)\n",
    "            yvalues.append(metrics.accuracy_score(tstY, prdY))\n",
    "        values[d] = yvalues\n",
    "    func.multiple_line_chart(axs[0, k], min_samples_leaf, values, 'Decision Trees with %s criteria'%f, 'nr estimators', \n",
    "                             'accuracy', percentage=True)\n",
    "    \n",
    "plt.show()\n"
   ],
   "metadata": {
    "collapsed": false,
    "pycharm": {
     "name": "#%%\n",
     "is_executing": false
    }
   }
  },
  {
   "cell_type": "markdown",
   "source": [
    "<table bgcolor=#ffffff align=\"center\" width=\"100%\" noborder>\n",
    "    <tr>\n",
    "        <td align=\"center\" width=\"30%\"><a href=\"Lab32_knn.ipynb\"><img src=\"images/prev.png\"></a></td>\n",
    "        <td width=\"40%\"></td>\n",
    "        <td align=\"center\" width=\"30%\"><a href=\"Lab34_forests.ipynb\"><img src=\"images/next.png\"></a></td>\n",
    "    </tr>\n",
    "</table>"
   ],
   "metadata": {
    "collapsed": false
   }
  }
 ],
 "metadata": {
  "kernelspec": {
   "display_name": "Python 3",
   "language": "python",
   "name": "python3"
  },
  "language_info": {
   "codemirror_mode": {
    "name": "ipython",
    "version": 3
   },
   "file_extension": ".py",
   "mimetype": "text/x-python",
   "name": "python",
   "nbconvert_exporter": "python",
   "pygments_lexer": "ipython3",
   "version": "3.7.3"
  },
  "pycharm": {
   "stem_cell": {
    "cell_type": "raw",
    "source": [],
    "metadata": {
     "collapsed": false
    }
   }
  }
 },
 "nbformat": 4,
 "nbformat_minor": 1
}