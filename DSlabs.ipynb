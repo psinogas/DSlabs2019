{
 "cells": [
  {
   "cell_type": "markdown",
   "metadata": {
    "collapsed": true,
    "pycharm": {
     "name": "#%% md\n"
    }
   },
   "source": [
    "<table bgcolor=#ffffff align=\"center\" width=\"100%\" noborder>\n",
    "    <tr>\n",
    "        <td align=\"left\" width=\"30%\"><img src=\"images/IST_logo.png\" width=\"50%\"></td>\n",
    "        <td width=\"40%\"></td>\n",
    "        <td align=\"right\" width=\"30%\"><img src=\"images/ds_logo.png\" width=\"25%\">\n",
    "    </tr>\n",
    "</table>"
   ]
  },
  {
   "cell_type": "markdown",
   "metadata": {},
   "source": [
    "<h1 align=\"center\" style=\"font-family:Arial;color:#00004d;font-size:40px;\">Data Science Labs</h1>\n",
    "\n",
    "This Data Science laboratorial course was designed independently of the data science tool to use. However, it is my \n",
    "opinion that nowadays, the one that demonstrates the best balance between flexibility and results is Python, along with \n",
    "the set of packages specific created for this context.\n",
    "\n",
    "The course is organized in five main modules, covering the following topics:\n",
    " \n",
    "<ul style=\"list-style-type:none;\">\n",
    "    <li><a href=\"Lab01_pandas.ipynb\">Lab 0 - Python basics for data science</a>\n",
    "        <ul style=\"list-style-type:none;\">\n",
    "            <li><a href=\"Lab01_pandasloading.ipynb#loading\">Loading data with pandas</a></li>\n",
    "            <li><a href=\"Lab02_charts.ipynb\">Basic charts with matplotlib.pyplot</a></li>\n",
    "            <li><a href=\"Lab03.ipynb\">More charts with seaborn</a></li></ul></li>\n",
    "    <li><a href=\"Lab1_exploration.ipynb\">Lab 1 - Data exploration</a>\n",
    "        <ul style=\"list-style-type:none;\">\n",
    "            <li><a href=\"Lab1_exploration.ipynb#single_var\">Singular variable analysis</a></li>\n",
    "            <li><a href=\"Lab12_multiple_var.ipynb\">Multi-variate analysis</a></li>\n",
    "        </ul></li>\n",
    "    <li><a href=\"Lab2.ipynb\">Lab 2 - Data preparation</a>\n",
    "        <ul style=\"list-style-type:none;\">\n",
    "            <li>Normalization</li>\n",
    "            <li>Variable dummification</li>\n",
    "            <li>Missing values imputation</li>\n",
    "            <li>Feature selection</li>\n",
    "            <li>Feature engineering</li>\n",
    "            <li><a href=\"Lab23_balancing.ipynb\">Data balancing</a></li>\n",
    "        </ul></li>\n",
    "    <li><a href=\"Lab3_classification.ipynb\">Lab 3 - Classification</a>\n",
    "        <ul style=\"list-style-type:none;\">\n",
    "            <li><a href=\"Lab3_classification.ipynb#Target\">Target analysis</a></li>\n",
    "            <li><a href=\"Lab3_classification.ipynb#NaiveBayes\">Naive Bayes</a></li>\n",
    "            <li><a href=\"Lab4.ipynb\">KNN</a></li>\n",
    "            <li><a href=\"Lab6.ipynb\">Decision Trees</a></li>\n",
    "            <li><a href=\"Lab7.ipynb\">Random Forests</a></li>\n",
    "            <li><a href=\"Lab8.ipynb\">Gradient Boosting</a></li>            \n",
    "        </ul></li>\n",
    "    <li><a href=\"Lab4_evaluation.ipynb\">Lab - Models evaluation</a>\n",
    "        <ul style=\"list-style-type:none;\">\n",
    "            <li></li>\n",
    "            <li></li>\n",
    "            <li></li>\n",
    "            <li></li>\n",
    "        </ul></li>\n",
    "    </li>\n",
    "</ul>        "
   ]
  },
  {
   "cell_type": "markdown",
   "metadata": {
    "pycharm": {
     "name": "#%% md\n"
    }
   },
   "source": [
    "<table bgcolor=#ffffff align=\"center\" width=\"100%\" noborder>\n",
    "    <tr>\n",
    "        <td align=\"center\" width=\"30%\"><img src=\"images/prev_grey.png\"></td>\n",
    "        <td width=\"40%\"></td>\n",
    "        <td align=\"center\" width=\"30%\"><a href=\"Lab01_pandas.ipynb\"><img src=\"images/next.png\"></a></td>\n",
    "    </tr>\n",
    "</table>\n"
   ]
  }
 ],
 "metadata": {
  "kernelspec": {
   "display_name": "Python 3",
   "language": "python",
   "name": "python3"
  },
  "language_info": {
   "codemirror_mode": {
    "name": "ipython",
    "version": 3
   },
   "file_extension": ".py",
   "mimetype": "text/x-python",
   "name": "python",
   "nbconvert_exporter": "python",
   "pygments_lexer": "ipython3",
   "version": "3.7.3"
  },
  "pycharm": {
   "stem_cell": {
    "cell_type": "raw",
    "source": [],
    "metadata": {
     "collapsed": false
    }
   }
  }
 },
 "nbformat": 4,
 "nbformat_minor": 1
}