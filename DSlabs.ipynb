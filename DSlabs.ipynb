{
 "cells": [
  {
   "cell_type": "markdown",
   "metadata": {
    "collapsed": true,
    "pycharm": {
     "name": "#%% md\n"
    }
   },
   "source": [
    "<table bgcolor=#ffffff align=\"center\" width=\"100%\" noborder>\n",
    "    <tr>\n",
    "        <td align=\"left\" width=\"30%\"><img src=\"images/IST_logo.png\" width=\"50%\"></td>\n",
    "        <td width=\"40%\"></td>\n",
    "        <td align=\"right\" width=\"30%\"><img src=\"images/ds_logo.png\" width=\"25%\">\n",
    "    </tr>\n",
    "</table>"
   ]
  },
  {
   "cell_type": "markdown",
   "metadata": {},
   "source": [
    "<h1 align=\"center\" style=\"font-family:Arial;color:#00004d;font-size:40px;\">Data Science Labs</h1>\n",
    "\n",
    "This Data Science laboratorial course was designed independently of the data science tool to use. However, it is my \n",
    "opinion that nowadays, the one that demonstrates the best balance between flexibility and results is Python, along with \n",
    "the set of packages specific created for this context.\n",
    "\n",
    "The course is organized in ___ classes, which will cover the following topics:\n",
    " \n",
    "<ul style=\"list-style-type:none;\">\n",
    "    <li><a href=\"Lab0.ipynb\">Python basics for data science</a>\n",
    "        <ul style=\"list-style-type:none;\">\n",
    "            <li><a href=\"Lab0.ipynb\">Loading data</a></li>\n",
    "            <li><a href=\"Lab02.ipynb\">Basic charts with matplotlib.pyplot</a></li>\n",
    "            <li><a href=\"Lab03.ipynb\">More charts with seaborn</a></li></ul></li>\n",
    "    <li><a href=\"Lab1.ipynb\">Lab 1 - Data exploration</a>\n",
    "        <ul style=\"list-style-type:none;\">\n",
    "            <li>Singular variable analysis</li>\n",
    "            <li>Multi variable analysis</li>\n",
    "            <li>Target analysis</li>\n",
    "        </ul></li>\n",
    "    <li><a href=\"Lab2.ipynb\">Lab - Data preparation</a>\n",
    "        <ul style=\"list-style-type:none;\">\n",
    "            <li>Normalization</li>\n",
    "            <li>Variable dummification</li>\n",
    "            <li>Missing values imputation</li>\n",
    "            <li>Feature selection</li>\n",
    "            <li>Feature engineering</li>\n",
    "            <li>Data balancing</li>\n",
    "        </ul></li>\n",
    "    <li><a href=\"Lab3.ipynb\">Lab - Classification</a>\n",
    "        <ul style=\"list-style-type:none;\">\n",
    "            <li><a href=\"Lab4.ipynb\">KNN</a></li>\n",
    "            <li><a href=\"Lab5.ipynb\">Naive Bayes</a></li>\n",
    "            <li><a href=\"Lab6.ipynb\">Decision Trees</a></li>\n",
    "            <li><a href=\"Lab7.ipynb\">Random Forests</a></li>\n",
    "            <li><a href=\"Lab8.ipynb\">Gradient Boosting</a></li>            \n",
    "        </ul></li>\n",
    "    <li><a href=\"Lab9.ipynb\">Lab - Models evaluation</a>\n",
    "        <ul style=\"list-style-type:none;\">\n",
    "            <li></li>\n",
    "            <li></li>\n",
    "            <li></li>\n",
    "            <li></li>\n",
    "        </ul></li>\n",
    "    </li>\n",
    "</ul>        "
   ]
  },
  {
   "cell_type": "markdown",
   "metadata": {
    "pycharm": {
     "name": "#%% md\n"
    }
   },
   "source": [
    "<table bgcolor=#ffffff align=\"center\" width=\"100%\" noborder>\n",
    "    <tr>\n",
    "        <td align=\"center\" width=\"30%\"><img src=\"images/prev_grey.png\"></td>\n",
    "        <td width=\"40%\"></td>\n",
    "        <td align=\"center\" width=\"30%\"><a href=\"Lab0.ipynb\"><img src=\"images/next.png\"></a></td>\n",
    "    </tr>\n",
    "</table>\n"
   ]
  }
 ],
 "metadata": {
  "kernelspec": {
   "display_name": "Python 3",
   "language": "python",
   "name": "python3"
  },
  "language_info": {
   "codemirror_mode": {
    "name": "ipython",
    "version": 3
   },
   "file_extension": ".py",
   "mimetype": "text/x-python",
   "name": "python",
   "nbconvert_exporter": "python",
   "pygments_lexer": "ipython3",
   "version": "3.7.3"
  },
  "pycharm": {
   "stem_cell": {
    "cell_type": "raw",
    "metadata": {
     "collapsed": false
    },
    "source": []
   }
  }
 },
 "nbformat": 4,
 "nbformat_minor": 1
}
