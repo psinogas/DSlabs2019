{
 "cells": [
  {
   "cell_type": "markdown",
   "source": [
    "<table bgcolor=#ffffff align=\"center\" width=\"100%\" noborder>\n",
    "    <tr>\n",
    "        <td align=\"left\" width=\"30%\"><img src=\"images/IST_logo.png\" width=\"50%\"></td>\n",
    "        <td width=\"40%\"></td>\n",
    "        <td align=\"right\" width=\"30%\"><img src=\"images/ds_logo.png\" width=\"25%\"></td>\n",
    "    </tr>\n",
    "    <tr><td align=\"left\" width=\"30%\"></td>\n",
    "        <td width=\"40%\"><p align=\"center\"><img src=\"images/title.png\"</td>\n",
    "        <td align=\"right\" width=\"30%\"></td>\n",
    "    </tr>\n",
    "</table>"
   ],
   "metadata": {
    "collapsed": false
   }
  },
  {
   "cell_type": "markdown",
   "source": [
    "<h1 align=\"center\" style=\"font-family:Arial;color:#6c6c6c;font-size:30px;\">Lab 4: Evaluation</h1>\n",
    "\n",
    "The evaluation of the results of each learnt model, in the classification paradigm, is objective and straightforward.\n",
    "We just need to assess if the predicted labels are correct, which is done by measuring the number of records where \n",
    "the predicted label is equal to the known ones.\n",
    "\n",
    "<h2 style=\"font-family:Arial;color:#6c6c6c;font-size:20px;font-style:italic;\">Accuracy</h2>\n",
    "\n",
    "The simplest measure is <strong>accuracy</strong>, which reports the percentage of correct predictions. It is just the\n",
    "opposite of <strong>error</strong>. In <code>sklearn</code>, accuracy is reported through the <code>score</code> method\n",
    "from each classifier, after its training and measured over a particular dataset and its known labels."
   ],
   "metadata": {
    "collapsed": false
   }
  },
  {
   "cell_type": "code",
   "execution_count": 21,
   "outputs": [
    {
     "data": {
      "text/plain": "0.7662337662337663"
     },
     "metadata": {},
     "output_type": "execute_result",
     "execution_count": 21
    }
   ],
   "source": [
    "import pandas as pd\n",
    "from sklearn.model_selection import train_test_split\n",
    "from sklearn.naive_bayes import GaussianNB\n",
    "\n",
    "data = pd.read_csv('data/diabetes.csv')\n",
    "y = data.pop('class').values\n",
    "X = data.values\n",
    "\n",
    "trnX, tstX, trnY, tstY = train_test_split(X, y, train_size=0.7, stratify=y)\n",
    "\n",
    "clf = GaussianNB()\n",
    "clf.fit(trnX, trnY)\n",
    "clf.score(tstX, tstY)"
   ],
   "metadata": {
    "collapsed": false,
    "pycharm": {
     "name": "#%%\n",
     "is_executing": false
    }
   }
  },
  {
   "cell_type": "markdown",
   "source": [
    "In our example, naive Bayes presents a not so good, only above 70%. But by itself, this number doesn't allow for\n",
    "understanding which are the errors - where Naive Bayes is struggling.\n",
    "\n",
    "<h2 style=\"font-family:Arial;color:#6c6c6c;font-size:20px;font-style:italic;\">Confusion Matrix</h2>\n",
    "\n",
    "Indeed, first we need to distinguish among the errors. In the presence of <strong>binary classification</strong>\n",
    "problems (there are only two possible outcomes for the target variable), this distinction is easy. Usually, we call  \n",
    "<i>negative</i> to the most common target value and <i>positive</i> to the other one. \n",
    "\n",
    "From this, we have:\n",
    "- <strong>true positives (TP)</strong>: the number of positive records rightly predicted as positve;\n",
    "- <strong>true negatives (TN)</strong>: the number of negatives records rightly predicted as negative;\n",
    "- <strong>false positives (FP)</strong>: the number of negative records wrongly predicted as positve;\n",
    "- <strong>false negatives (FN)</strong>: the number of positive records wrongly predicted as negative.\n",
    "\n",
    "The <strong>confusion matrix</strong> is the standard to present these numbers, and is computed through the \n",
    "<code>confusion matrix</code> in the <code>sklearn.metrics</code> package. "
   ],
   "metadata": {
    "collapsed": false,
    "pycharm": {
     "name": "#%% md\n"
    }
   }
  },
  {
   "cell_type": "code",
   "execution_count": 22,
   "outputs": [
    {
     "data": {
      "text/plain": "array([[ 52,  29],\n       [ 25, 125]])"
     },
     "metadata": {},
     "output_type": "execute_result",
     "execution_count": 22
    }
   ],
   "source": [
    "import numpy as np\n",
    "import sklearn.metrics as metrics\n",
    "\n",
    "labels: np.ndarray = pd.unique(y)\n",
    "prdY: np.ndarray = clf.predict(tstX)\n",
    "cnf_mtx: np.ndarray = metrics.confusion_matrix(tstY, prdY, labels)\n",
    "cnf_mtx"
   ],
   "metadata": {
    "collapsed": false,
    "pycharm": {
     "name": "#%%\n",
     "is_executing": false
    }
   }
  },
  {
   "cell_type": "markdown",
   "source": [
    "Unfortunately, we are not able to see the correspondence between the matrix elements and the enumerated above, since \n",
    "there is no standard to specify the row and columns in the matrix. So the best way is to plot it in a specialized \n",
    "chart, as the one below."
   ],
   "metadata": {
    "collapsed": false,
    "pycharm": {
     "name": "#%% md\n"
    }
   }
  },
  {
   "cell_type": "code",
   "execution_count": 23,
   "outputs": [
    {
     "data": {
      "text/plain": "<Figure size 432x288 with 0 Axes>"
     },
     "metadata": {},
     "output_type": "display_data"
    },
    {
     "data": {
      "text/plain": "<Figure size 576x288 with 2 Axes>",
      "image/png": "[encoded data removed]"
     },
     "metadata": {
      "needs_background": "light"
     },
     "output_type": "display_data"
    }
   ],
   "source": [
    "import itertools\n",
    "import matplotlib.pyplot as plt\n",
    "CMAP = plt.cm.Blues\n",
    "\n",
    "def plot_confusion_matrix(ax: plt.Axes, cnf_matrix: np.ndarray, classes_names: list, normalize: bool = False):\n",
    "    if normalize:\n",
    "        total = cnf_matrix.sum(axis=1)[:, np.newaxis]\n",
    "        cm = cnf_matrix.astype('float') / total\n",
    "        title = \"Normalized confusion matrix\"\n",
    "    else:\n",
    "        cm = cnf_matrix\n",
    "        title = 'Confusion matrix'\n",
    "    np.set_printoptions(precision=2)\n",
    "    tick_marks = np.arange(0, len(classes_names), 1)\n",
    "    ax.set_title(title)\n",
    "    ax.set_ylabel('True label')\n",
    "    ax.set_xlabel('Predicted label')\n",
    "    ax.set_xticks(tick_marks)\n",
    "    ax.set_yticks(tick_marks)\n",
    "    ax.set_xticklabels(classes_names)\n",
    "    ax.set_yticklabels(classes_names)\n",
    "    ax.imshow(cm, interpolation='nearest', cmap=CMAP)\n",
    "\n",
    "    fmt = '.2f' if normalize else 'd'\n",
    "    for i, j in itertools.product(range(cm.shape[0]), range(cm.shape[1])):\n",
    "        ax.text(j, i, format(cm[i, j], fmt), horizontalalignment=\"center\")\n",
    " \n",
    "\n",
    "plt.figure()\n",
    "fig, axs = plt.subplots(1, 2, figsize=(8, 4), squeeze=False)\n",
    "plot_confusion_matrix(axs[0,0], cnf_mtx, labels)\n",
    "plot_confusion_matrix(axs[0,1], metrics.confusion_matrix(tstY, prdY, labels), labels, normalize=True)\n",
    "plt.tight_layout()\n",
    "plt.show()"
   ],
   "metadata": {
    "collapsed": false,
    "pycharm": {
     "name": "#%%\n",
     "is_executing": false
    }
   }
  },
  {
   "cell_type": "markdown",
   "source": [
    "Whenever in the presence of non-binary classification, we adapt those notions for each possible combination. For \n",
    "example, in the <i>iris</i> dataset we have 3 different classes: <i>iris-setosa</i>, <i>iris-versicolor</i> and \n",
    "<i>iris-virginica</i>."
   ],
   "metadata": {
    "collapsed": false,
    "pycharm": {
     "name": "#%% md\n"
    }
   }
  },
  {
   "cell_type": "code",
   "execution_count": 24,
   "outputs": [
    {
     "data": {
      "text/plain": "<Figure size 432x288 with 0 Axes>"
     },
     "metadata": {},
     "output_type": "display_data"
    },
    {
     "data": {
      "text/plain": "<Figure size 576x288 with 2 Axes>",
      "image/png": "[encoded data removed]"
     },
     "metadata": {
      "needs_background": "light"
     },
     "output_type": "display_data"
    }
   ],
   "source": [
    "data = pd.read_csv('data/iris.csv')\n",
    "y = data.pop('class').values\n",
    "X = data.values\n",
    "labels = pd.unique(y)\n",
    "\n",
    "trnX, tstX, trnY, tstY = train_test_split(X, y, train_size=0.7, stratify=y)\n",
    "\n",
    "clf = GaussianNB()\n",
    "clf.fit(trnX, trnY)\n",
    "prdY = clf.predict(tstX)\n",
    "\n",
    "plt.figure()\n",
    "fig, axs = plt.subplots(1, 2, figsize=(8, 4), squeeze=False)\n",
    "plot_confusion_matrix(axs[0,0], metrics.confusion_matrix(tstY, prdY, labels), labels)\n",
    "plot_confusion_matrix(axs[0,1], metrics.confusion_matrix(tstY, prdY, labels), labels, normalize=True)\n",
    "plt.tight_layout()\n",
    "plt.show()\n"
   ],
   "metadata": {
    "collapsed": false,
    "pycharm": {
     "name": "#%%\n",
     "is_executing": false
    }
   }
  },
  {
   "cell_type": "markdown",
   "source": [
    "Besides the confusion matrix, there are several other measures that try to reflect the quality of the model, also \n",
    "available in the <code>sklearn.metrics</code> package. Next, we summarize the most used.\n",
    "\n",
    "<table noborder>\n",
    "    <tr><th><p text-align:\"center\">Classification metrics</th></tr>\n",
    "    <tr><th><p text-align:\"center\"></th></tr>\n",
    "    <tr><td><p text-align:\"left\"><code><b>recall_score(tstY: np.ndarray, prdY: np.ndarray) -> [0..1]</b></code></td></tr>\n",
    "    <tr><td><p text-align:\"left\">also called <i>sensitivity></i> and <i>TP rate</i>, reveals the models ability to\n",
    "        recognize the positive records, and is given by <code>TP/(TP+FN)</code>; receives the known labels in \n",
    "        <i>tstY</i> and the predicted ones in <i>prdY</i></td></tr>\n",
    "    <tr><td><p text-align:\"left\"><code><b>precision_score(tstY: np.ndarray, prdY: np.ndarray) -> [0..1]</b></code></td></tr>\n",
    "    <tr><td><p text-align:\"left\">reveals the models ability to not misclassify negative records, and is given by \n",
    "        <code>TP/(TP+FP)</code>; receives the known labels in <i>tstY</i> and the predicted ones in <i>prdY</i></td></tr>\n",
    "    <tr><td><p text-align:\"left\"><code><b>f1_score(tstY: np.ndarray, prdY: np.ndarray) -> [0..1]</b></code></td></tr>\n",
    "    <tr><td><p text-align:\"left\">computes the average between precision and recall, and is given by \n",
    "        <code>2 * (precision * recall) / (precision + recall)</code>; receives the known labels in <i>tstY</i> \n",
    "        and the predicted ones in <i>prdY</i></td></tr>\n",
    "    <tr><td><p text-align:\"left\"><code><b>balanced_accuracy_score(tstY: np.ndarray, prdY: np.ndarray) -> [0..1]</b></code></td></tr>\n",
    "    <tr><td><p text-align:\"left\">reveals the average of recall scores for all the classes; receives the known \n",
    "        labels in <i>tstY</i> and the predicted ones in <i>prdY</i></td></tr>\n",
    "</table>"
   ],
   "metadata": {
    "collapsed": false,
    "pycharm": {
     "name": "#%% md\n"
    }
   }
  },
  {
   "cell_type": "markdown",
   "source": [
    "<h2 style=\"font-family:Arial;color:#6c6c6c;font-size:20px;font-style:italic;\">ROC Charts</h2>\n",
    "\n",
    "<strong>ROC charts</strong> are another mean to understand models' performance, in particular in the presence of binary \n",
    "non balanced datasets.\n",
    "They present the balance between True Positive rate (recall) and False Positive rate in a graphical way, and are\n",
    "available through the <code>roc_curve</code> method in the <code>sklearn.metrics</code>."
   ],
   "metadata": {
    "collapsed": false
   }
  },
  {
   "cell_type": "code",
   "execution_count": 25,
   "outputs": [
    {
     "data": {
      "text/plain": "<Figure size 432x288 with 1 Axes>",
      "image/png": "[encoded data removed]"
     },
     "metadata": {
      "needs_background": "light"
     },
     "output_type": "display_data"
    }
   ],
   "source": [
    "def plot_roc_chart(ax: plt.Axes, models: dict, tstX, tstY, target: str='class'):\n",
    "    ax.set_xlim([0.0, 1.0])\n",
    "    ax.set_ylim([0.0, 1.0])\n",
    "    ax.set_xlabel('FP rate')\n",
    "    ax.set_ylabel('TP rate')\n",
    "    ax.set_title('ROC chart for %s'%target)\n",
    "    ax.plot([0, 1], [0, 1], color='navy', label='random', linestyle='--')\n",
    "    \n",
    "    for clf in models:\n",
    "        scores = models[clf].predict_proba(tstX)[:,1]\n",
    "        fpr, tpr, _ = metrics.roc_curve(tstY, scores, 'positive')\n",
    "        roc_auc = metrics.roc_auc_score(tstY, scores)\n",
    "        ax.plot(fpr, tpr, label='%s (auc=%0.2f)' %(clf, roc_auc))\n",
    "    ax.legend(loc=\"lower center\")\n",
    "\n",
    "\n",
    "data = pd.read_csv('data/diabetes.csv')\n",
    "y = data.pop('class').values\n",
    "X = data.values\n",
    "trnX, tstX, trnY, tstY = train_test_split(X, y, train_size=0.7, stratify=y)\n",
    "model = GaussianNB().fit(trnX, trnY)\n",
    "\n",
    "plt.figure()\n",
    "plot_roc_chart(plt.gca(), {'GaussianNB': model}, tstX, tstY, 'class')\n",
    "plt.show()"
   ],
   "metadata": {
    "collapsed": false,
    "pycharm": {
     "name": "#%%\n",
     "is_executing": false
    }
   }
  },
  {
   "cell_type": "markdown",
   "source": [
    "However, roc charts require two parameters: <code>tstY</code> and <code>scores</code>. While the first one is just the\n",
    "labels for the test set, the second one reflects a kind of a probablity of each record in the test set being positive.\n",
    "These scores are not trivial to get from some classification techniques, but can be computed through the <code>proba</code> \n",
    "method in their estimators. It works like the predict method, but instead of returning the predictions themselves, it\n",
    "return those scores.\n",
    "\n",
    "In addition to the chart, the <i>area under the roc curve</i>, <strong>auc</strong> for short, is another important \n",
    "measure, mostly for unbalanced datasets. It is available as <code>roc_auc_score</code>, in the <code>sklearn.metric</code>\n",
    "package, and receives the known labels in its first parameter and the previous computed scores as the second one, just\n",
    "like <code>roc_curve</code> method. "
   ],
   "metadata": {
    "collapsed": false,
    "pycharm": {
     "name": "#%% md\n"
    }
   }
  },
  {
   "cell_type": "markdown",
   "source": [
    "<table bgcolor=#ffffff align=\"center\" width=\"100%\" noborder>\n",
    "    <tr>\n",
    "        <td align=\"center\" width=\"30%\"><a href=\"Lab30_classification.ipynb\"><img src=\"images/prev.png\"></a></td>\n",
    "        <td width=\"40%\"></td>\n",
    "        <td align=\"center\" width=\"30%\"><a href=\"Lab3.ipynb\"><img src=\"images/next_grey.png\"></a></td>\n",
    "    </tr>\n",
    "</table>"
   ],
   "metadata": {
    "collapsed": false
   }
  }
 ],
 "metadata": {
  "kernelspec": {
   "display_name": "Python 3",
   "language": "python",
   "name": "python3"
  },
  "language_info": {
   "codemirror_mode": {
    "name": "ipython",
    "version": 3
   },
   "file_extension": ".py",
   "mimetype": "text/x-python",
   "name": "python",
   "nbconvert_exporter": "python",
   "pygments_lexer": "ipython3",
   "version": "3.7.3"
  },
  "pycharm": {
   "stem_cell": {
    "cell_type": "raw",
    "source": [],
    "metadata": {
     "collapsed": false
    }
   }
  }
 },
 "nbformat": 4,
 "nbformat_minor": 1
}