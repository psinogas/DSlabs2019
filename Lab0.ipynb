{
 "cells": [
  {
   "cell_type": "markdown",
   "metadata": {},
   "source": [
    "<table bgcolor=#ffffff align=\"center\" width=\"100%\" noborder>\n",
    "    <tr>\n",
    "        <td align=\"left\" width=\"30%\"><img src=\"images/IST_logo.png\" width=\"50%\"></td>\n",
    "        <td width=\"40%\"></td>\n",
    "        <td align=\"right\" width=\"30%\"><img src=\"images/ds_logo.png\" width=\"25%\">\n",
    "    </tr>\n",
    "</table>\n",
    "<h1 align=\"center\" style=\"font-family:Arial;color:#00004d;font-size:40px;\">Data Science Labs</h1>"
   ]
  },
  {
   "cell_type": "markdown",
   "metadata": {},
   "source": [
    "<h2 align=\"center\" style=\"font-family:Arial;color:#6c6c6c;font-size:30px;\">Python basics for data science</h2>"
   ]
  },
  {
   "cell_type": "markdown",
   "metadata": {},
   "source": [
    "<h3 style=\"font-family:Arial;color:#6c6c6c;font-size:25px;\">Loading data</h3>\n",
    "\n",
    "<code><a href=\"https://pandas.pydata.org/pandas-docs/stable/reference/api/pandas.read_csv.html\">read_csv</a></code> \n",
    "is one the most useful methods to import data from external files, and may be parametrized to deal with different \n",
    "formats and contents.\n",
    "\n",
    "Among the several optional parameters, the following ones are of particular importance:\n",
    "<dl>\n",
    "    <dt><code>sep : <i>str</i></code> <i>(default : ‘,’)</i></dt><dd>- the columns delimiter to use</dd>\n",
    "</dl> "
   ]
  },
  {
   "cell_type": "code",
   "execution_count": 11,
   "metadata": {
    "pycharm": {
     "is_executing": false,
     "name": "#%%\n"
    }
   },
   "outputs": [],
   "source": [
    "#from builtins import len, range\n",
    "import pandas as pd\n",
    "data = pd.read_csv('data/algae.csv')"
   ]
  },
  {
   "cell_type": "markdown",
   "metadata": {},
   "source": [
    "The method returns a pandas <code>DataFrame</code>, the primary pandas data structure, which corresponds to a data table, \n",
    "simulating direct access to any element in the table, through a set of predefined properties and methods.\n",
    "\n",
    "When applied to the data returned <code>head</code> and <code>tail</code> return the first and last n records in the \n",
    "dataset, respectively. Showing 5 whenever n is not given."
   ]
  },
  {
   "cell_type": "code",
   "execution_count": 12,
   "metadata": {
    "pycharm": {
     "is_executing": false,
     "name": "#%%\n"
    }
   },
   "outputs": [
    {
     "data": {
      "text/html": [
       "<div>\n",
       "<style scoped>\n",
       "    .dataframe tbody tr th:only-of-type {\n",
       "        vertical-align: middle;\n",
       "    }\n",
       "\n",
       "    .dataframe tbody tr th {\n",
       "        vertical-align: top;\n",
       "    }\n",
       "\n",
       "    .dataframe thead th {\n",
       "        text-align: right;\n",
       "    }\n",
       "</style>\n",
       "<table border=\"1\" class=\"dataframe\">\n",
       "  <thead>\n",
       "    <tr style=\"text-align: right;\">\n",
       "      <th></th>\n",
       "      <th>season</th>\n",
       "      <th>river_size</th>\n",
       "      <th>fluid_velocity</th>\n",
       "      <th>pH</th>\n",
       "      <th>Oxygen</th>\n",
       "      <th>Chloride</th>\n",
       "      <th>Nitrates</th>\n",
       "      <th>Ammonium</th>\n",
       "      <th>Orthophosphate</th>\n",
       "      <th>Phosphate</th>\n",
       "      <th>Chlorophyll</th>\n",
       "    </tr>\n",
       "  </thead>\n",
       "  <tbody>\n",
       "    <tr>\n",
       "      <td>0</td>\n",
       "      <td>winter</td>\n",
       "      <td>small</td>\n",
       "      <td>medium</td>\n",
       "      <td>8.00</td>\n",
       "      <td>9.8</td>\n",
       "      <td>60.80</td>\n",
       "      <td>6.24</td>\n",
       "      <td>578.00</td>\n",
       "      <td>105.00</td>\n",
       "      <td>170.00</td>\n",
       "      <td>50.0</td>\n",
       "    </tr>\n",
       "    <tr>\n",
       "      <td>1</td>\n",
       "      <td>spring</td>\n",
       "      <td>small</td>\n",
       "      <td>medium</td>\n",
       "      <td>8.35</td>\n",
       "      <td>8.0</td>\n",
       "      <td>57.75</td>\n",
       "      <td>1.29</td>\n",
       "      <td>370.00</td>\n",
       "      <td>428.75</td>\n",
       "      <td>558.75</td>\n",
       "      <td>1.3</td>\n",
       "    </tr>\n",
       "    <tr>\n",
       "      <td>2</td>\n",
       "      <td>autumn</td>\n",
       "      <td>small</td>\n",
       "      <td>medium</td>\n",
       "      <td>8.10</td>\n",
       "      <td>11.4</td>\n",
       "      <td>40.02</td>\n",
       "      <td>5.33</td>\n",
       "      <td>346.67</td>\n",
       "      <td>125.67</td>\n",
       "      <td>187.06</td>\n",
       "      <td>15.6</td>\n",
       "    </tr>\n",
       "    <tr>\n",
       "      <td>3</td>\n",
       "      <td>spring</td>\n",
       "      <td>small</td>\n",
       "      <td>medium</td>\n",
       "      <td>8.07</td>\n",
       "      <td>4.8</td>\n",
       "      <td>77.36</td>\n",
       "      <td>2.30</td>\n",
       "      <td>98.18</td>\n",
       "      <td>61.18</td>\n",
       "      <td>138.70</td>\n",
       "      <td>1.4</td>\n",
       "    </tr>\n",
       "    <tr>\n",
       "      <td>4</td>\n",
       "      <td>autumn</td>\n",
       "      <td>small</td>\n",
       "      <td>medium</td>\n",
       "      <td>8.06</td>\n",
       "      <td>9.0</td>\n",
       "      <td>55.35</td>\n",
       "      <td>10.42</td>\n",
       "      <td>233.70</td>\n",
       "      <td>58.22</td>\n",
       "      <td>97.58</td>\n",
       "      <td>10.5</td>\n",
       "    </tr>\n",
       "  </tbody>\n",
       "</table>\n",
       "</div>"
      ],
      "text/plain": [
       "   season river_size fluid_velocity     pH  Oxygen  Chloride  Nitrates  \\\n",
       "0  winter      small          medium  8.00     9.8     60.80      6.24   \n",
       "1  spring      small          medium  8.35     8.0     57.75      1.29   \n",
       "2  autumn      small          medium  8.10    11.4     40.02      5.33   \n",
       "3  spring      small          medium  8.07     4.8     77.36      2.30   \n",
       "4  autumn      small          medium  8.06     9.0     55.35     10.42   \n",
       "\n",
       "   Ammonium  Orthophosphate  Phosphate  Chlorophyll  \n",
       "0    578.00          105.00     170.00         50.0  \n",
       "1    370.00          428.75     558.75          1.3  \n",
       "2    346.67          125.67     187.06         15.6  \n",
       "3     98.18           61.18     138.70          1.4  \n",
       "4    233.70           58.22      97.58         10.5  "
      ]
     },
     "execution_count": 12,
     "metadata": {},
     "output_type": "execute_result"
    }
   ],
   "source": [
    "data.head()"
   ]
  },
  {
   "cell_type": "markdown",
   "metadata": {},
   "source": [
    "The advantage of the use of such methods is just to inspect if the loading process occurred without problems.\n",
    "\n",
    "In order to see the number of variables, you can use the property <code>columns</code>. Note that <code>ndim</code> does \n",
    "not correspond to the expected number, because it corresponds to the number of dimensions in a dataframe, where each \n",
    "column does not correspond to a different dimension."
   ]
  },
  {
   "cell_type": "code",
   "execution_count": 13,
   "metadata": {
    "pycharm": {
     "is_executing": false,
     "name": "#%%\n"
    }
   },
   "outputs": [
    {
     "data": {
      "text/plain": [
       "Index(['season', 'river_size', 'fluid_velocity ', 'pH', 'Oxygen', 'Chloride',\n",
       "       'Nitrates', 'Ammonium', 'Orthophosphate', 'Phosphate', 'Chlorophyll'],\n",
       "      dtype='object')"
      ]
     },
     "execution_count": 13,
     "metadata": {},
     "output_type": "execute_result"
    }
   ],
   "source": [
    "data.columns"
   ]
  },
  {
   "cell_type": "markdown",
   "metadata": {},
   "source": [
    "In order to inspect the number of records (rows) in your data, you can apply the <code>len</code> function over the \n",
    "dataframe. Again, note that <code>size</code> doesn't return the same value. "
   ]
  },
  {
   "cell_type": "code",
   "execution_count": 14,
   "metadata": {
    "pycharm": {
     "is_executing": false,
     "name": "#%%\n"
    }
   },
   "outputs": [
    {
     "data": {
      "text/plain": [
       "200"
      ]
     },
     "execution_count": 14,
     "metadata": {},
     "output_type": "execute_result"
    }
   ],
   "source": [
    "len(data)"
   ]
  },
  {
   "cell_type": "markdown",
   "metadata": {},
   "source": [
    "Another way to inspect the dataset size, we can use the <code>shape</code> method, which returns the number of records \n",
    "and the number of variables, on the first and second position of the tuple, respectively."
   ]
  },
  {
   "cell_type": "code",
   "execution_count": 15,
   "metadata": {
    "pycharm": {
     "is_executing": false,
     "name": "#%%\n"
    }
   },
   "outputs": [
    {
     "data": {
      "text/plain": [
       "(200, 11)"
      ]
     },
     "execution_count": 15,
     "metadata": {},
     "output_type": "execute_result"
    }
   ],
   "source": [
    "data.shape"
   ]
  },
  {
   "cell_type": "markdown",
   "metadata": {},
   "source": [
    "<h3 style=\"font-family:Arial;color:#6c6c6c;font-size:25px;\">Loading data</h3>"
   ]
  },
  {
   "cell_type": "markdown",
   "metadata": {},
   "source": [
    "<h3 style=\"font-family:Arial;color:#6c6c6c;font-size:25px;\">Loading data</h3>"
   ]
  },
  {
   "cell_type": "markdown",
   "metadata": {},
   "source": [
    "<table bgcolor=#ffffff align=\"center\" width=\"100%\" noborder>\n",
    "    <tr>\n",
    "        <td align=\"center\" width=\"30%\"><a href=\"DSlabs.ipynb\"><img src=\"images/prev.png\"></a></td>\n",
    "        <td width=\"40%\"></td>\n",
    "        <td align=\"center\" width=\"30%\"><a href=\"Lab1.ipynb\"><img src=\"images/next.png\"></a></td>\n",
    "    </tr>\n",
    "</table>\n"
   ]
  }
 ],
 "metadata": {
  "kernelspec": {
   "display_name": "Python 3",
   "language": "python",
   "name": "python3"
  },
  "language_info": {
   "codemirror_mode": {
    "name": "ipython",
    "version": 3
   },
   "file_extension": ".py",
   "mimetype": "text/x-python",
   "name": "python",
   "nbconvert_exporter": "python",
   "pygments_lexer": "ipython3",
   "version": "3.7.3"
  },
  "pycharm": {
   "stem_cell": {
    "cell_type": "raw",
    "metadata": {
     "collapsed": false
    },
    "source": []
   }
  }
 },
 "nbformat": 4,
 "nbformat_minor": 1
}
