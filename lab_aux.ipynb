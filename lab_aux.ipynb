{
 "cells": [
  {
   "cell_type": "code",
   "execution_count": null,
   "outputs": [],
   "source": [
    "import pandas as pd\n",
    "prod17 = pd.read_csv('data/edp/wind_farm_prod_2017.csv', sep=';', parse_dates=['Timestamp'], infer_datetime_format=True)"
   ],
   "metadata": {
    "collapsed": false,
    "pycharm": {
     "name": "#%%\n"
    }
   }
  },
  {
   "cell_type": "code",
   "execution_count": null,
   "outputs": [],
   "source": [
    "prod17.head()"
   ],
   "metadata": {
    "collapsed": false,
    "pycharm": {
     "name": "#%%\n"
    }
   }
  },
  {
   "cell_type": "code",
   "execution_count": null,
   "outputs": [],
   "source": [
    "prod17.dtypes"
   ],
   "metadata": {
    "collapsed": false,
    "pycharm": {
     "name": "#%%\n"
    }
   }
  },
  {
   "cell_type": "code",
   "execution_count": null,
   "outputs": [],
   "source": [
    "prod17.Turbine_ID.unique()"
   ],
   "metadata": {
    "collapsed": false,
    "pycharm": {
     "name": "#%%\n"
    }
   }
  },
  {
   "cell_type": "code",
   "execution_count": null,
   "outputs": [],
   "source": [
    "prod16 = pd.read_csv('data/edp/wind_farm_prod_2016.csv', sep=';', parse_dates=['Timestamp'], infer_datetime_format=True)"
   ],
   "metadata": {
    "collapsed": false,
    "pycharm": {
     "name": "#%%\n"
    }
   }
  },
  {
   "cell_type": "code",
   "execution_count": null,
   "outputs": [],
   "source": [
    "prod16.dtypes"
   ],
   "metadata": {
    "collapsed": false,
    "pycharm": {
     "name": "#%%\n"
    }
   }
  },
  {
   "cell_type": "code",
   "execution_count": null,
   "outputs": [],
   "source": [
    "prod16.Turbine_ID.unique()"
   ],
   "metadata": {
    "collapsed": false,
    "pycharm": {
     "name": "#%%\n"
    }
   }
  },
  {
   "cell_type": "code",
   "execution_count": null,
   "outputs": [],
   "source": [
    "from glob import glob\n",
    "files = sorted(glob('data/edp/wind_farm_prod_*.csv'))\n",
    "files"
   ],
   "metadata": {
    "collapsed": false,
    "pycharm": {
     "name": "#%%\n"
    }
   }
  },
  {
   "cell_type": "code",
   "execution_count": null,
   "outputs": [],
   "source": [
    "prod = pd.concat((pd.read_csv(file, sep=';', parse_dates=['Timestamp'], infer_datetime_format=True) for file in files))\n",
    "prod.describe(include='all')"
   ],
   "metadata": {
    "collapsed": false,
    "pycharm": {
     "name": "#%%\n"
    }
   }
  },
  {
   "cell_type": "code",
   "execution_count": null,
   "outputs": [],
   "source": [
    "prod.Turbine_ID.unique()\n"
   ],
   "metadata": {
    "collapsed": false,
    "pycharm": {
     "name": "#%%\n"
    }
   }
  },
  {
   "cell_type": "code",
   "execution_count": null,
   "outputs": [],
   "source": [
    "files = sorted(glob('data/edp/wind_turbine_logs_*.csv'))\n",
    "logs = pd.concat((pd.read_csv(file, sep=';', parse_dates=['Timestamp'], infer_datetime_format=True) for file in files))\n",
    "logs.describe(include='all')\n",
    "\n",
    "\n",
    "\n",
    "def plot_multiple_line_chart(title: str, x_name: str, y_name: str, x_values: list, y_values: dict):\n",
    "    legend: list = []\n",
    "    _plt.xlabel(x_name)\n",
    "    _plt.ylabel(y_name)\n",
    "    _plt.title(title)\n",
    "    for name, y in y_values.items():\n",
    "        _plt.plot(x_values, y)\n",
    "        legend.append(name)\n",
    "    _plt.legend(legend, loc='best', bbox_to_anchor=(1, -0.15),fancybox = True, shadow = True)    \n",
    "    #_plt.legend(legend, loc='lower center')\n",
    "\n",
    "\n",
    "\n",
    "\n"
   ],
   "metadata": {
    "collapsed": false,
    "pycharm": {
     "name": "#%%\n"
    }
   }
  }
 ],
 "metadata": {
  "language_info": {
   "codemirror_mode": {
    "name": "ipython",
    "version": 2
   },
   "file_extension": ".py",
   "mimetype": "text/x-python",
   "name": "python",
   "nbconvert_exporter": "python",
   "pygments_lexer": "ipython2",
   "version": "2.7.6"
  },
  "kernelspec": {
   "name": "python3",
   "language": "python",
   "display_name": "Python 3"
  },
  "pycharm": {
   "stem_cell": {
    "cell_type": "raw",
    "source": [
     "#%"
    ],
    "metadata": {
     "collapsed": false
    }
   }
  }
 },
 "nbformat": 4,
 "nbformat_minor": 0
}