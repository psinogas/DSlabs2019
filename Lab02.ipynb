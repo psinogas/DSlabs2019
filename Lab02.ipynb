{
 "cells": [
  {
   "cell_type": "markdown",
   "source": [
    "<table bgcolor=#ffffff align=\"center\" width=\"100%\" noborder>\n",
    "    <tr>\n",
    "        <td align=\"left\" width=\"30%\"><img src=\"images/IST_logo.png\" width=\"50%\"></td>\n",
    "        <td width=\"40%\"></td>\n",
    "        <td align=\"right\" width=\"30%\"><a href=\"DSlabs.ipynb\"><img src=\"images/ds_logo.png\" width=\"25%\"></a></td>\n",
    "    </tr>\n",
    "</table>\n",
    "<h1 align=\"center\" style=\"font-family:Arial;color:#00004d;font-size:40px;\">Data Science Labs</h1>"
   ],
   "metadata": {
    "collapsed": false
   }
  },
  {
   "cell_type": "markdown",
   "source": [
    "<h2 align=\"center\" style=\"font-family:Arial;color:#6c6c6c;font-size:30px;\">Python basics for data science (cont)</h2>"
   ],
   "metadata": {
    "collapsed": false
   }
  },
  {
   "cell_type": "markdown",
   "source": [
    "<h3 style=\"font-family:Arial;color:#6c6c6c;font-size:25px;\">Basic charts with <code>matplotlib.pyplot</code></h3>\n",
    "\n",
    "<code>matplotlib.pyplot</code> is one of the best-known Python packages for plotting 2D charts. In order to plot this \n",
    "kind of element, the package works around the classes <code>Figure, Subplot</code> and <code>Axes</code>. Usually, it \n",
    "is imported as <code>plt</code> (<code>_plt</code> in our context).\n",
    "\n",
    "The <code>Figure</code> corresponds to the canvas where the elements would be plotted. It can be created through the \n",
    "<code>figure</code> method, and we can specify its number and size through the optional parameters <code>num</code> and \n",
    "<code>fig_size</code> as below. "
   ],
   "metadata": {
    "collapsed": false
   }
  },
  {
   "cell_type": "markdown",
   "source": [
    "If these parameters are not given, the default values will be "
   ],
   "metadata": {
    "collapsed": false,
    "pycharm": {
     "name": "#%% md\n"
    }
   }
  },
  {
   "cell_type": "code",
   "execution_count": null,
   "outputs": [],
   "source": [
    "import matplotlib.pyplot as _plt\n",
    "import numpy as np\n",
    "\n",
    "def bar_chart(series, labels, title):\n",
    "    _plt.title(title)\n",
    "    _plt.ylabel(\"number of \")\n",
    "    x = np.arange(len(series))\n",
    "    _plt.xticks(x, labels, rotation='vertical')\n",
    "    _plt.bar(x, series, edgecolor='grey')"
   ],
   "metadata": {
    "collapsed": false,
    "pycharm": {
     "name": "#%%\n"
    }
   }
  },
  {
   "cell_type": "code",
   "execution_count": null,
   "outputs": [],
   "source": [
    "def plot_multiple_line_chart(title: str, x_name: str, y_name: str, x_values: list, y_values: dict):\n",
    "    legend: list = []\n",
    "    _plt.xlabel(x_name)\n",
    "    _plt.ylabel(y_name)\n",
    "    _plt.title(title)\n",
    "    for name, y in y_values.items():\n",
    "        _plt.plot(x_values, y)\n",
    "        legend.append(name)\n",
    "    _plt.legend(legend, loc='best', bbox_to_anchor=(1, -0.15),fancybox = True, shadow = True)    "
   ],
   "metadata": {
    "collapsed": false,
    "pycharm": {
     "name": "#%%\n"
    }
   }
  },
  {
   "cell_type": "code",
   "execution_count": null,
   "outputs": [],
   "source": [],
   "metadata": {
    "collapsed": false,
    "pycharm": {
     "name": "#%%\n"
    }
   }
  },
  {
   "cell_type": "markdown",
   "source": [
    "<h3 style=\"font-family:Arial;color:#6c6c6c;font-size:25px;\">More charts with <code>seaborn</code></h3>"
   ],
   "metadata": {
    "collapsed": false
   }
  },
  {
   "cell_type": "markdown",
   "source": [
    "<table bgcolor=#ffffff align=\"center\" width=\"100%\" noborder>\n",
    "    <tr>\n",
    "        <td align=\"center\" width=\"30%\"><a href=\"Lab0.ipynb\"><img src=\"images/prev.png\"></a></td>\n",
    "        <td width=\"40%\"></td>\n",
    "        <td align=\"center\" width=\"30%\"><a href=\"Lab03.ipynb\"><img src=\"images/next.png\"></a></td>\n",
    "    </tr>\n",
    "</table>\n"
   ],
   "metadata": {
    "collapsed": false
   }
  }
 ],
 "metadata": {
  "kernelspec": {
   "display_name": "Python 3",
   "language": "python",
   "name": "python3"
  },
  "language_info": {
   "codemirror_mode": {
    "name": "ipython",
    "version": 3
   },
   "file_extension": ".py",
   "mimetype": "text/x-python",
   "name": "python",
   "nbconvert_exporter": "python",
   "pygments_lexer": "ipython3",
   "version": "3.7.3"
  },
  "pycharm": {
   "stem_cell": {
    "cell_type": "raw",
    "source": [],
    "metadata": {
     "collapsed": false
    }
   }
  }
 },
 "nbformat": 4,
 "nbformat_minor": 1
}