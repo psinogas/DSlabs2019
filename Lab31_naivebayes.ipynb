{
 "cells": [
  {
   "cell_type": "markdown",
   "source": [
    "<table bgcolor=#ffffff align=\"center\" width=\"100%\" noborder>\n",
    "    <tr>\n",
    "        <td align=\"left\" width=\"30%\"><img src=\"images/IST_logo.png\" width=\"50%\"></td>\n",
    "        <td width=\"40%\"></td>\n",
    "        <td align=\"right\" width=\"30%\"><img src=\"images/ds_logo.png\" width=\"25%\"></td>\n",
    "    </tr>\n",
    "    <tr><td align=\"left\" width=\"30%\"></td>\n",
    "        <td width=\"40%\"><p align=\"center\"><img src=\"images/title.png\"</td>\n",
    "        <td align=\"right\" width=\"30%\"></td>\n",
    "    </tr>\n",
    "</table>"
   ],
   "metadata": {
    "collapsed": false
   }
  },
  {
   "cell_type": "markdown",
   "source": [
    "<h1 align=\"center\" style=\"font-family:Arial;color:#6c6c6c;font-size:30px;\">Lab 3: Classification (cont.)</h1>"
   ],
   "metadata": {
    "collapsed": false
   }
  },
  {
   "cell_type": "markdown",
   "source": [
    "<h2 style=\"font-family:Arial;color:#6c6c6c;font-size:25px;\">Naive Bayes</h2>\n",
    "\n",
    "Naive Bayes is one of the most famous classification techniques, one of the most simplest ones, and the easiest to \n",
    "apply.\n",
    "\n",
    "Like other Bayesian techniques, it just chooses the most probable class for each record, according to the estimation \n",
    "of the probability of each class given the record, whose label we want to predict. The trick and simplicity of \n",
    "Naive Bayes resides in the assumption of conditional independence among the variables, with simplifies that estimation\n",
    "and turns Naive Bayes as the standard baseline for classification.\n",
    "\n",
    "Indeed, we can evaluate the performance of each classifier over a given dataset, simply by comparing their results\n",
    "among each other, in particular with the results of Naive Bayes over the dataset.\n",
    "\n",
    "The nicest property of Naive Bayes is that it is not parametrizable, and so, its performance serves as a comparison \n",
    "baseline: any model is only interesting if it outperforms the one learnt through Naive Bayes."
   ],
   "metadata": {
    "collapsed": false
   }
  },
  {
   "cell_type": "code",
   "execution_count": 15,
   "outputs": [
    {
     "data": {
      "text/plain": "<Figure size 432x288 with 1 Axes>",
      "image/png": "[encoded data removed]"
     },
     "metadata": {
      "needs_background": "light"
     },
     "output_type": "display_data"
    }
   ],
   "source": [
    "import numpy as np\n",
    "import pandas as pd\n",
    "import matplotlib.pyplot as plt\n",
    "from sklearn.model_selection import train_test_split\n",
    "import sklearn.metrics as metrics\n",
    "from sklearn.naive_bayes import GaussianNB, MultinomialNB, BernoulliNB\n",
    "%load functions.ipynb\n",
    "import ipynb.fs.defs.functions as func\n",
    "\n",
    "data: pd.DataFrame = pd.read_csv('data/iris.csv')\n",
    "y: np.ndarray = data.pop('class').values\n",
    "X: np.ndarray = data.values\n",
    "labels = pd.unique(y)\n",
    "\n",
    "trnX, tstX, trnY, tstY = train_test_split(X, y, train_size=0.7, stratify=y)\n",
    "\n",
    "clf = GaussianNB()\n",
    "clf.fit(trnX, trnY)\n",
    "prdY = clf.predict(tstX)\n",
    "cnf_mtx = metrics.confusion_matrix(tstY, prdY, labels)\n",
    "func.plot_confusion_matrix(plt.gca(), cnf_mtx, labels)"
   ],
   "metadata": {
    "collapsed": false,
    "pycharm": {
     "name": "#%%\n",
     "is_executing": false
    }
   }
  },
  {
   "cell_type": "markdown",
   "source": [
    "If we inspect the classes available in the <code>sklearn.naive_bayes</code> package, we see there are more then the\n",
    "<code>GaussianNB</code> estimators. Indeed, there are also the <code>MultinomialNB</code> and the <code>BernoulliNB</code>,\n",
    "that are adequate to use when the data distribution is close to be a multinomial or Bernoulli."
   ],
   "metadata": {
    "collapsed": false,
    "pycharm": {
     "name": "#%% md\n"
    }
   }
  },
  {
   "cell_type": "code",
   "execution_count": 16,
   "outputs": [
    {
     "data": {
      "text/plain": "<Figure size 432x288 with 1 Axes>",
      "image/png": "[encoded data removed]"
     },
     "metadata": {
      "needs_background": "light"
     },
     "output_type": "display_data"
    }
   ],
   "source": [
    "estimators = {'GaussianNB': GaussianNB(), \n",
    "              'MultinomialNB': MultinomialNB(), \n",
    "              'BernoulyNB': BernoulliNB()}\n",
    "\n",
    "xvalues = []\n",
    "yvalues = []\n",
    "for clf in estimators:\n",
    "    xvalues.append(clf)\n",
    "    estimators[clf].fit(trnX, trnY)\n",
    "    prdY = estimators[clf].predict(tstX)\n",
    "    yvalues.append(metrics.accuracy_score(tstY, prdY))\n",
    "\n",
    "plt.figure()\n",
    "func.bar_chart(plt.gca(), xvalues, yvalues, 'Comparison of Naive Bayes Models', '', 'accuracy')\n",
    "plt.show()"
   ],
   "metadata": {
    "collapsed": false,
    "pycharm": {
     "name": "#%%\n",
     "is_executing": false
    }
   }
  },
  {
   "cell_type": "markdown",
   "source": [
    "<table bgcolor=#ffffff align=\"center\" width=\"100%\" noborder>\n",
    "    <tr>\n",
    "        <td align=\"center\" width=\"30%\"><a href=\"Lab2_preparation.ipynb\"><img src=\"images/prev.png\"></a></td>\n",
    "        <td width=\"40%\"></td>\n",
    "        <td align=\"center\" width=\"30%\"><a href=\"Lab31_naivebayes.ipynb\"><img src=\"images/next.png\"></a></td>\n",
    "    </tr>\n",
    "</table>"
   ],
   "metadata": {
    "collapsed": false
   }
  }
 ],
 "metadata": {
  "kernelspec": {
   "display_name": "Python 3",
   "language": "python",
   "name": "python3"
  },
  "language_info": {
   "codemirror_mode": {
    "name": "ipython",
    "version": 3
   },
   "file_extension": ".py",
   "mimetype": "text/x-python",
   "name": "python",
   "nbconvert_exporter": "python",
   "pygments_lexer": "ipython3",
   "version": "3.7.3"
  },
  "pycharm": {
   "stem_cell": {
    "cell_type": "raw",
    "source": [],
    "metadata": {
     "collapsed": false
    }
   }
  }
 },
 "nbformat": 4,
 "nbformat_minor": 1
}