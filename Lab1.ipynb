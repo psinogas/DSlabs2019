{
 "cells": [
  {
   "cell_type": "markdown",
   "metadata": {},
   "source": [
    "<table align=\"center\" width=\"100%\" noborder>\n",
    "<table bgcolor=#ffffff align=\"center\" width=\"100%\">\n",
    "    <tr>\n",
    "        <td align=\"left\" width=\"30%\"><img src=\"images/IST_logo.png\" width=\"50%\"></td>\n",
    "        <td width=\"40%\"></td>\n",
    "        <td align=\"right\" width=\"30%\"><img src=\"images/ds_logo.png\" width=\"25%\">\n",
    "    </tr>\n",
    "</table>\n",
    "<h1 align=\"center\" style=\"font-family:Arial;color:#00004d;font-size:40px;\">Data Science</h1>"
   ]
  },
  {
   "cell_type": "markdown",
   "metadata": {},
   "source": [
    "<h2 align=\"center\" style=\"font-family:Arial;color:#6c6c6c;font-size:30px;\">Lab 1: Data Exploration</h2>\n",
    "\n",
    "This Data Science laboratorial course was designed independently of the data science tool to use. However, it is my \n",
    "opinion that nowadays, the one that demonstrates the best balance between flexibility and results is Python, along with \n",
    "the set of packages specific created for this context.\n",
    "\n",
    "pandas is one of the most well known tool for dealing with datasets, and has a set of predefined methods to deal with it.\n",
    "\n",
    "The first step in every data science project is to explore the existing data. In order to do that, you need to load each\n",
    "data file available, and analyze it careful and systematically.\n",
    "\n",
    "<img src=\"images/data_exploration.png\" width=\"50%\">"
   ]
  },
  {
   "cell_type": "markdown",
   "metadata": {},
   "source": [
    "<h3 style=\"font-family:Arial;color:#6c6c6c;font-size:25px;\">Contents Identification</h3>\n",
    "\n",
    "<code>read_csv</code> is one of several methods to import data from external files, and may be parametrized to deal with\n",
    "different formats and contents (see \n",
    "<a href=\"https://pandas.pydata.org/pandas-docs/stable/reference/api/pandas.read_csv.html\">read_csv</a>\n",
    "documentation to all the details)."
   ]
  },
  {
   "cell_type": "code",
   "execution_count": 13,
   "metadata": {
    "pycharm": {
     "is_executing": false,
     "name": "#%%\n"
    },
    "scrolled": true
   },
   "outputs": [],
   "source": [
    "import pandas as pd\n",
    "algae = pd.read_csv('data/algae.csv')"
   ]
  },
  {
   "cell_type": "markdown",
   "metadata": {
    "pycharm": {
     "name": "#%% md\n"
    }
   },
   "source": [
    "The method returns a pandas <code>DataFrame</code>, the primary pandas data structure, which corresponds to a data table, \n",
    "simulating direct access to any element in the table, through a set of predefined properties and methods.\n",
    "\n",
    "When applied to the data returned <code>head</code> and <code>tail</code> return the first and last n records in the \n",
    "dataset, respectively. Showing 5 whenever n is not given."
   ]
  },
  {
   "cell_type": "code",
   "execution_count": 14,
   "metadata": {
    "pycharm": {
     "is_executing": false,
     "name": "#%%\n"
    },
    "scrolled": true
   },
   "outputs": [
    {
     "data": {
      "text/plain": "   season river_size fluid_velocity     pH  Oxygen  Chloride  Nitrates  \\\n0  winter      small          medium  8.00     9.8     60.80      6.24   \n1  spring      small          medium  8.35     8.0     57.75      1.29   \n2  autumn      small          medium  8.10    11.4     40.02      5.33   \n3  spring      small          medium  8.07     4.8     77.36      2.30   \n4  autumn      small          medium  8.06     9.0     55.35     10.42   \n\n   Ammonium  Orthophosphate  Phosphate  Chlorophyll  \n0    578.00          105.00     170.00         50.0  \n1    370.00          428.75     558.75          1.3  \n2    346.67          125.67     187.06         15.6  \n3     98.18           61.18     138.70          1.4  \n4    233.70           58.22      97.58         10.5  ",
      "text/html": "<div>\n<style scoped>\n    .dataframe tbody tr th:only-of-type {\n        vertical-align: middle;\n    }\n\n    .dataframe tbody tr th {\n        vertical-align: top;\n    }\n\n    .dataframe thead th {\n        text-align: right;\n    }\n</style>\n<table border=\"1\" class=\"dataframe\">\n  <thead>\n    <tr style=\"text-align: right;\">\n      <th></th>\n      <th>season</th>\n      <th>river_size</th>\n      <th>fluid_velocity</th>\n      <th>pH</th>\n      <th>Oxygen</th>\n      <th>Chloride</th>\n      <th>Nitrates</th>\n      <th>Ammonium</th>\n      <th>Orthophosphate</th>\n      <th>Phosphate</th>\n      <th>Chlorophyll</th>\n    </tr>\n  </thead>\n  <tbody>\n    <tr>\n      <th>0</th>\n      <td>winter</td>\n      <td>small</td>\n      <td>medium</td>\n      <td>8.00</td>\n      <td>9.8</td>\n      <td>60.80</td>\n      <td>6.24</td>\n      <td>578.00</td>\n      <td>105.00</td>\n      <td>170.00</td>\n      <td>50.0</td>\n    </tr>\n    <tr>\n      <th>1</th>\n      <td>spring</td>\n      <td>small</td>\n      <td>medium</td>\n      <td>8.35</td>\n      <td>8.0</td>\n      <td>57.75</td>\n      <td>1.29</td>\n      <td>370.00</td>\n      <td>428.75</td>\n      <td>558.75</td>\n      <td>1.3</td>\n    </tr>\n    <tr>\n      <th>2</th>\n      <td>autumn</td>\n      <td>small</td>\n      <td>medium</td>\n      <td>8.10</td>\n      <td>11.4</td>\n      <td>40.02</td>\n      <td>5.33</td>\n      <td>346.67</td>\n      <td>125.67</td>\n      <td>187.06</td>\n      <td>15.6</td>\n    </tr>\n    <tr>\n      <th>3</th>\n      <td>spring</td>\n      <td>small</td>\n      <td>medium</td>\n      <td>8.07</td>\n      <td>4.8</td>\n      <td>77.36</td>\n      <td>2.30</td>\n      <td>98.18</td>\n      <td>61.18</td>\n      <td>138.70</td>\n      <td>1.4</td>\n    </tr>\n    <tr>\n      <th>4</th>\n      <td>autumn</td>\n      <td>small</td>\n      <td>medium</td>\n      <td>8.06</td>\n      <td>9.0</td>\n      <td>55.35</td>\n      <td>10.42</td>\n      <td>233.70</td>\n      <td>58.22</td>\n      <td>97.58</td>\n      <td>10.5</td>\n    </tr>\n  </tbody>\n</table>\n</div>"
     },
     "metadata": {},
     "output_type": "execute_result",
     "execution_count": 14
    }
   ],
   "source": [
    "algae.head()"
   ]
  },
  {
   "cell_type": "markdown",
   "metadata": {
    "pycharm": {
     "name": "#%% md\n"
    }
   },
   "source": [
    "The advantage of the use of such methods is just to inspect if the loading process occurred without problems.\n",
    "\n",
    "In order to see the number of variables, you can use the property <code>columns</code>. Note that <code>ndim</code> does \n",
    "not correspond to the expected number, because it corresponds to the number of dimensions in a dataframe, where each \n",
    "column does not correspond to a different dimension."
   ]
  },
  {
   "cell_type": "code",
   "execution_count": 15,
   "metadata": {
    "pycharm": {
     "is_executing": false,
     "name": "#%%\n"
    },
    "scrolled": true
   },
   "outputs": [
    {
     "data": {
      "text/plain": "Index(['season', 'river_size', 'fluid_velocity ', 'pH', 'Oxygen', 'Chloride',\n       'Nitrates', 'Ammonium', 'Orthophosphate', 'Phosphate', 'Chlorophyll'],\n      dtype='object')"
     },
     "metadata": {},
     "output_type": "execute_result",
     "execution_count": 15
    }
   ],
   "source": [
    "algae.columns"
   ]
  },
  {
   "cell_type": "markdown",
   "metadata": {
    "pycharm": {
     "name": "#%% md\n"
    }
   },
   "source": [
    "In order to inspect the number of records (rows) in your data, you can apply the <code>len</code> function over the \n",
    "dataframe. Again, note that <code>size</code> doesn't return the same value. "
   ]
  },
  {
   "cell_type": "code",
   "execution_count": 16,
   "metadata": {
    "pycharm": {
     "is_executing": false,
     "name": "#%%\n"
    },
    "scrolled": true
   },
   "outputs": [
    {
     "data": {
      "text/plain": "200"
     },
     "metadata": {},
     "output_type": "execute_result",
     "execution_count": 16
    }
   ],
   "source": [
    "len(algae)"
   ]
  },
  {
   "cell_type": "markdown",
   "metadata": {
    "pycharm": {
     "name": "#%% md\n"
    }
   },
   "source": [
    "Another way to inspect the dataset size, we can use the <code>shape</code> method, which returns the number of records \n",
    "and the number of variables, on the first and second position of the tuple, respectively."
   ]
  },
  {
   "cell_type": "code",
   "execution_count": 17,
   "metadata": {
    "pycharm": {
     "is_executing": false,
     "name": "#%%\n"
    },
    "scrolled": true
   },
   "outputs": [
    {
     "data": {
      "text/plain": "(200, 11)"
     },
     "metadata": {},
     "output_type": "execute_result",
     "execution_count": 17
    }
   ],
   "source": [
    "algae.shape"
   ]
  },
  {
   "cell_type": "markdown",
   "metadata": {},
   "source": [
    "<h3 style=\"font-family:Arial;color:#6c6c6c;font-size:25px;\">Single Variable Analysis</h3>\n",
    "\n",
    "The analysis of each variable by itself (non relating them with each other), depends on its type. Each variable in a \n",
    "DataFrame has one of the numpy types (float, int, bool, timedelta64[ns] and datetime64[ns]), or one of \n",
    "<a href=\"https://pandas.pydata.org/pandas-docs/stable/ecosystem.html#ecosystem-extensions\">pandas extension types.</a>\n",
    "\n",
    "The property <code>dtypes</code> applied to the data object, returns a pandas Series (an object to represent a single \n",
    "column) with all the names of the variables in the dataset, and their corresponding types."
   ]
  },
  {
   "cell_type": "code",
   "execution_count": 18,
   "metadata": {
    "pycharm": {
     "is_executing": false,
     "name": "#%%\n"
    },
    "scrolled": true
   },
   "outputs": [
    {
     "data": {
      "text/plain": "season              object\nriver_size          object\nfluid_velocity      object\npH                 float64\nOxygen             float64\nChloride           float64\nNitrates           float64\nAmmonium           float64\nOrthophosphate     float64\nPhosphate          float64\nChlorophyll        float64\ndtype: object"
     },
     "metadata": {},
     "output_type": "execute_result",
     "execution_count": 18
    }
   ],
   "source": [
    "algae.dtypes"
   ]
  },
  {
   "cell_type": "markdown",
   "metadata": {
    "pycharm": {
     "name": "#%% md\n"
    }
   },
   "source": [
    "From the results shown, we see that from the 11 variables, 8 are numerical (<code>float64</code>) and 3 are \n",
    "non-numerical (<code>season, river_size</code> and <code>fluid_velocity</code>).\n",
    "\n",
    "In order to explore those 3 variables, lets see what are the values for each one of them. For that we can select just \n",
    "the non-numerical variables directly through <code>select_dtypes</code> method, returning a Series object. Then apply \n",
    "the <code>unique</code> method to each column."
   ]
  },
  {
   "cell_type": "code",
   "execution_count": 19,
   "metadata": {
    "pycharm": {
     "is_executing": false,
     "name": "#%%\n"
    },
    "scrolled": true
   },
   "outputs": [
    {
     "name": "stdout",
     "text": [
      "season ['winter' 'spring' 'autumn' 'summer']\nriver_size ['small' 'medium' 'large']\nfluid_velocity  ['medium' 'high' 'low']\n"
     ],
     "output_type": "stream"
    }
   ],
   "source": [
    "cat_vars = algae.select_dtypes(include='object')\n",
    "for att in cat_vars:\n",
    "    print(att, algae[att].unique())"
   ]
  },
  {
   "cell_type": "markdown",
   "metadata": {
    "pycharm": {
     "name": "#%% md\n"
    }
   },
   "source": [
    "As we can see, all the 3 variables present a few different string values, which means that they should be categorical \n",
    "variables.\n",
    "\n",
    "In order to change the dataframe, we can cast the data values to be recognized as categorical, through the application \n",
    "of the <code>astype</code> method to each column in the dataframe. "
   ]
  },
  {
   "cell_type": "code",
   "execution_count": 20,
   "metadata": {
    "pycharm": {
     "is_executing": false,
     "name": "#%%\n"
    },
    "scrolled": true
   },
   "outputs": [
    {
     "data": {
      "text/plain": "season             category\nriver_size         category\nfluid_velocity     category\npH                  float64\nOxygen              float64\nChloride            float64\nNitrates            float64\nAmmonium            float64\nOrthophosphate      float64\nPhosphate           float64\nChlorophyll         float64\ndtype: object"
     },
     "metadata": {},
     "output_type": "execute_result",
     "execution_count": 20
    }
   ],
   "source": [
    "algae[cat_vars.columns] = algae.select_dtypes(['object']).apply(lambda x: x.astype('category'))\n",
    "algae.dtypes"
   ]
  },
  {
   "cell_type": "markdown",
   "metadata": {
    "pycharm": {
     "is_executing": false,
     "name": "#%% md\n"
    }
   },
   "source": [
    "As seen above, getting the different values of a categorical variable is trivial, but the same does not fit numerical \n",
    "ones. Indeed, we don't want to see all values assumed by a real variable.\n",
    "\n",
    "For numerical variables, the way to inspect their range encompasses studying their minimum and maximum values, along \n",
    "with other estimators, like the mean, mode, standard deviation and other different percentiles, which allows for the best\n",
    "description of this kind of variables.\n",
    "\n",
    "The <code>describe</code> method, applied to the dataframe, gives the 5-number summary for each numerical variable."
   ]
  },
  {
   "cell_type": "code",
   "execution_count": 21,
   "metadata": {
    "pycharm": {
     "is_executing": false,
     "name": "#%%\n"
    },
    "scrolled": true
   },
   "outputs": [
    {
     "data": {
      "text/plain": "               pH      Oxygen    Chloride    Nitrates    Ammonium  \\\ncount  199.000000  198.000000  190.000000  198.000000  198.000000   \nmean     8.011759    9.117778   43.636842    3.282828  154.447475   \nstd      0.598302    2.391253   46.830993    3.776458  180.011207   \nmin      5.600000    1.500000    0.220000    0.050000    5.000000   \n25%      7.700000    7.725000   10.985000    1.297500   35.625000   \n50%      8.060000    9.800000   32.730000    2.675000   99.665000   \n75%      8.400000   10.800000   57.825000    4.447500  203.730000   \nmax      9.700000   13.400000  391.500000   45.650000  931.830000   \n\n       Orthophosphate   Phosphate  Chlorophyll  \ncount      198.000000  198.000000   188.000000  \nmean        83.325909  111.550808    13.541011  \nstd        116.783165  102.214088    20.448323  \nmin          1.000000    0.900000     0.000000  \n25%         16.000000   19.395000     2.000000  \n50%         41.400000   84.500000     5.200000  \n75%        102.247500  182.160000    18.300000  \nmax        771.600000  558.750000   110.460000  ",
      "text/html": "<div>\n<style scoped>\n    .dataframe tbody tr th:only-of-type {\n        vertical-align: middle;\n    }\n\n    .dataframe tbody tr th {\n        vertical-align: top;\n    }\n\n    .dataframe thead th {\n        text-align: right;\n    }\n</style>\n<table border=\"1\" class=\"dataframe\">\n  <thead>\n    <tr style=\"text-align: right;\">\n      <th></th>\n      <th>pH</th>\n      <th>Oxygen</th>\n      <th>Chloride</th>\n      <th>Nitrates</th>\n      <th>Ammonium</th>\n      <th>Orthophosphate</th>\n      <th>Phosphate</th>\n      <th>Chlorophyll</th>\n    </tr>\n  </thead>\n  <tbody>\n    <tr>\n      <th>count</th>\n      <td>199.000000</td>\n      <td>198.000000</td>\n      <td>190.000000</td>\n      <td>198.000000</td>\n      <td>198.000000</td>\n      <td>198.000000</td>\n      <td>198.000000</td>\n      <td>188.000000</td>\n    </tr>\n    <tr>\n      <th>mean</th>\n      <td>8.011759</td>\n      <td>9.117778</td>\n      <td>43.636842</td>\n      <td>3.282828</td>\n      <td>154.447475</td>\n      <td>83.325909</td>\n      <td>111.550808</td>\n      <td>13.541011</td>\n    </tr>\n    <tr>\n      <th>std</th>\n      <td>0.598302</td>\n      <td>2.391253</td>\n      <td>46.830993</td>\n      <td>3.776458</td>\n      <td>180.011207</td>\n      <td>116.783165</td>\n      <td>102.214088</td>\n      <td>20.448323</td>\n    </tr>\n    <tr>\n      <th>min</th>\n      <td>5.600000</td>\n      <td>1.500000</td>\n      <td>0.220000</td>\n      <td>0.050000</td>\n      <td>5.000000</td>\n      <td>1.000000</td>\n      <td>0.900000</td>\n      <td>0.000000</td>\n    </tr>\n    <tr>\n      <th>25%</th>\n      <td>7.700000</td>\n      <td>7.725000</td>\n      <td>10.985000</td>\n      <td>1.297500</td>\n      <td>35.625000</td>\n      <td>16.000000</td>\n      <td>19.395000</td>\n      <td>2.000000</td>\n    </tr>\n    <tr>\n      <th>50%</th>\n      <td>8.060000</td>\n      <td>9.800000</td>\n      <td>32.730000</td>\n      <td>2.675000</td>\n      <td>99.665000</td>\n      <td>41.400000</td>\n      <td>84.500000</td>\n      <td>5.200000</td>\n    </tr>\n    <tr>\n      <th>75%</th>\n      <td>8.400000</td>\n      <td>10.800000</td>\n      <td>57.825000</td>\n      <td>4.447500</td>\n      <td>203.730000</td>\n      <td>102.247500</td>\n      <td>182.160000</td>\n      <td>18.300000</td>\n    </tr>\n    <tr>\n      <th>max</th>\n      <td>9.700000</td>\n      <td>13.400000</td>\n      <td>391.500000</td>\n      <td>45.650000</td>\n      <td>931.830000</td>\n      <td>771.600000</td>\n      <td>558.750000</td>\n      <td>110.460000</td>\n    </tr>\n  </tbody>\n</table>\n</div>"
     },
     "metadata": {},
     "output_type": "execute_result",
     "execution_count": 21
    }
   ],
   "source": [
    "algae.describe()"
   ]
  },
  {
   "cell_type": "markdown",
   "metadata": {},
   "source": [
    "Those numbers alone, give all the information required, but it's not easy to interpret. A better way to understand the \n",
    "impact of such values is through the analysis of boxplots for each variable.\n",
    "\n",
    "In order to show such charts we may use the <code>matplotlib</code> package, to define different routines for displaying \n",
    "the different charts needed to explore our data.\n"
   ]
  },
  {
   "cell_type": "code",
   "execution_count": 22,
   "metadata": {
    "pycharm": {
     "is_executing": false,
     "name": "#%%\n"
    },
    "scrolled": true
   },
   "outputs": [
    {
     "data": {
      "text/plain": "<Figure size 432x288 with 1 Axes>",
      "image/png": "[encoded data removed]"
     },
     "metadata": {
      "needs_background": "light"
     },
     "output_type": "display_data"
    }
   ],
   "source": [
    "import matplotlib.pyplot as _plt\n",
    "_plt.figure()\n",
    "algae.boxplot(figsize=(10,7))\n",
    "_plt.show() "
   ]
  },
  {
   "cell_type": "markdown",
   "metadata": {},
   "source": [
    "Despite the ability to see the relations among the different value ranges for all variables, it is difficult to analyze \n",
    "each one in particular, due to the different scales.\n",
    "\n",
    "In order to address this difference, we can plot singular boxplots for each variable. Defining a simple function to draw\n",
    "this kind of chart, is one of the more effective ways to accomplish it."
   ]
  },
  {
   "cell_type": "code",
   "execution_count": 23,
   "metadata": {
    "pycharm": {
     "is_executing": false
    },
    "scrolled": false
   },
   "outputs": [
    {
     "data": {
      "text/plain": "<Figure size 648x648 with 8 Axes>",
      "image/png": "[encoded data removed]"
     },
     "metadata": {
      "needs_background": "light"
     },
     "output_type": "display_data"
    }
   ],
   "source": [
    "def choose_grid(nr) -> tuple:\n",
    "    if nr <= 5:\n",
    "        return (1, nr)\n",
    "    elif nr < 10:\n",
    "        return (nr // 3 + 1, 3)\n",
    "    else:\n",
    "        return (nr // 5 +1, 5)\n",
    "    \n",
    "def boxplot(data, var, rows, cols, i):\n",
    "    _plt.subplot(rows, cols, i)\n",
    "    _plt.title(\"Boxplot for \"+var)\n",
    "    _plt.boxplot(data)\n",
    "\n",
    "columns = algae.select_dtypes(include='number').columns\n",
    "n_rows, n_cols = choose_grid(len(columns))\n",
    "_plt.figure(figsize=[n_rows * 3,n_cols * 3])\n",
    "for i in range(len(columns)):\n",
    "    var = columns[i]\n",
    "    boxplot(algae[var].dropna().values, var, n_rows, n_cols, i+1)\n",
    "_plt.tight_layout()\n",
    "_plt.show()\n",
    "    "
   ]
  },
  {
   "cell_type": "code",
   "execution_count": 24,
   "metadata": {
    "pycharm": {
     "is_executing": false,
     "name": "#%% \n"
    },
    "scrolled": false
   },
   "outputs": [
    {
     "data": {
      "text/plain": "<Figure size 648x648 with 8 Axes>",
      "image/png": "[encoded data removed]"
     },
     "metadata": {
      "needs_background": "light"
     },
     "output_type": "display_data"
    }
   ],
   "source": [
    "def histogram_4_numeric(data, var, rows, cols, i, nbins='auto'):\n",
    "    _plt.subplot(rows, cols, i)\n",
    "    _plt.title(\"Histogram for \" + var)\n",
    "    _plt.xlabel(var)\n",
    "    _plt.ylabel(\"probability\")\n",
    "    _plt.hist(data, nbins, facecolor=\"blue\")\n",
    "columns = algae.select_dtypes(include='number').columns\n",
    "n_rows, n_cols = choose_grid(len(columns))    \n",
    "_plt.figure(figsize=[n_rows * 3,n_cols * 3])\n",
    "for i in range(len(columns)):\n",
    "    var = columns[i]\n",
    "    histogram_4_numeric(algae[var].dropna().values, var, n_rows, n_cols, i+1)\n",
    "_plt.tight_layout()\n",
    "_plt.show()"
   ]
  },
  {
   "cell_type": "markdown",
   "source": [
    "Histograms for categorical variables may also be produced, just through the use of bar charts."
   ],
   "metadata": {
    "collapsed": false
   }
  },
  {
   "cell_type": "code",
   "execution_count": null,
   "outputs": [],
   "source": [
    "def histogram_4_categorical(data, var, rows, cols, i):\n",
    "    _plt.subplot(rows, cols, i)\n",
    "    _plt.title(\"Histogram for \" + var)\n",
    "    _plt.xlabel(var)\n",
    "    _plt.ylabel(\"probability\")\n",
    "    _plt.hist(data, facecolor=\"blue\")\n",
    "\n",
    "_plt.figure(figsize=[n_rows * 3,n_cols * 3])\n",
    "for i in range(len(columns)):\n",
    "    var = columns[i]\n",
    "    histogram_4_numeric(algae[var].dropna().values, var, n_rows, n_cols, i+1)\n",
    "_plt.tight_layout()\n",
    "_plt.show()\n"
   ],
   "metadata": {
    "collapsed": false,
    "pycharm": {
     "name": "#%%\n"
    }
   }
  },
  {
   "cell_type": "markdown",
   "source": [
    "Indeed histograms give us an insight about the distribution of each variable, but recognizing the distribution that \n",
    "best fits the data is may be hard.\n",
    "Lets look at the histogram  \n",
    "\n",
    "\n"
   ],
   "metadata": {
    "collapsed": false
   }
  }
 ],
 "metadata": {
  "kernelspec": {
   "display_name": "Python 3",
   "language": "python",
   "name": "python3"
  },
  "language_info": {
   "codemirror_mode": {
    "name": "ipython",
    "version": 3
   },
   "file_extension": ".py",
   "mimetype": "text/x-python",
   "name": "python",
   "nbconvert_exporter": "python",
   "pygments_lexer": "ipython3",
   "version": "3.7.3"
  },
  "pycharm": {
   "stem_cell": {
    "cell_type": "raw",
    "source": [],
    "metadata": {
     "collapsed": false
    }
   }
  }
 },
 "nbformat": 4,
 "nbformat_minor": 1
}