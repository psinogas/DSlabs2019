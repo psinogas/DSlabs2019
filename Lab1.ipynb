{
 "cells": [
  {
   "cell_type": "markdown",
   "metadata": {},
   "source": [
    "<table align=\"center\" width=\"100%\" noborder>\n",
    "<table bgcolor=#ffffff align=\"center\" width=\"100%\">\n",
    "    <tr>\n",
    "        <td align=\"left\" width=\"30%\"><img src=\"images/IST_logo.png\" width=\"50%\"></td>\n",
    "        <td width=\"40%\"></td>\n",
    "        <td align=\"right\" width=\"30%\"><img src=\"images/ds_logo.png\" width=\"25%\">\n",
    "    </tr>\n",
    "</table>\n",
    "<h1 align=\"center\" style=\"font-family:Arial;color:#00004d;font-size:40px;\">Data Science</h1>"
   ]
  },
  {
   "cell_type": "markdown",
   "metadata": {},
   "source": [
    "<h2 align=\"center\" style=\"font-family:Arial;color:#6c6c6c;font-size:30px;\">Lab 1: Data Exploration</h2>\n",
    "\n",
    "This Data Science laboratorial course was designed independently of the data science tool to use. However, it is my \n",
    "opinion that nowadays, the one that demonstrates the best balance between flexibility and results is Python, along with \n",
    "the set of packages specific created for this context.\n",
    "\n",
    "pandas is one of the most well known tool for dealing with datasets, and has a set of predefined methods to deal with it.\n",
    "\n",
    "The first step in every data science project is to explore the existing data. In order to do that, you need to load each\n",
    "data file available, and analyze it careful and systematically.\n",
    "\n",
    "<img src=\"images/data_exploration.png\" width=\"50%\">"
   ]
  },
  {
   "cell_type": "markdown",
   "metadata": {},
   "source": [
    "<h3 style=\"font-family:Arial;color:#6c6c6c;font-size:25px;\">Contents Identification</h3>\n",
    "\n",
    "<code>read_csv</code> is one of several methods to import data from external files, and may be parametrized to deal with\n",
    "different formats and contents (see \n",
    "<a href=\"https://pandas.pydata.org/pandas-docs/stable/reference/api/pandas.read_csv.html\">read_csv</a>\n",
    "documentation to all the details)."
   ]
  },
  {
   "cell_type": "code",
   "execution_count": 1,
   "metadata": {
    "pycharm": {
     "is_executing": false,
     "name": "#%%\n"
    },
    "scrolled": true
   },
   "outputs": [],
   "source": [
    "from builtins import len, range\n",
    "import pandas as pd\n",
    "from matplotlib import mlab\n",
    "data = pd.read_csv('data/algae.csv')"
   ]
  },
  {
   "cell_type": "markdown",
   "metadata": {
    "pycharm": {
     "name": "#%% md\n"
    }
   },
   "source": [
    "The method returns a pandas <code>DataFrame</code>, the primary pandas data structure, which corresponds to a data table, \n",
    "simulating direct access to any element in the table, through a set of predefined properties and methods.\n",
    "\n",
    "When applied to the data returned <code>head</code> and <code>tail</code> return the first and last n records in the \n",
    "dataset, respectively. Showing 5 whenever n is not given."
   ]
  },
  {
   "cell_type": "code",
   "execution_count": 2,
   "metadata": {
    "pycharm": {
     "is_executing": false,
     "name": "#%%\n"
    },
    "scrolled": true
   },
   "outputs": [
    {
     "data": {
      "text/html": [
       "<div>\n",
       "<style scoped>\n",
       "    .dataframe tbody tr th:only-of-type {\n",
       "        vertical-align: middle;\n",
       "    }\n",
       "\n",
       "    .dataframe tbody tr th {\n",
       "        vertical-align: top;\n",
       "    }\n",
       "\n",
       "    .dataframe thead th {\n",
       "        text-align: right;\n",
       "    }\n",
       "</style>\n",
       "<table border=\"1\" class=\"dataframe\">\n",
       "  <thead>\n",
       "    <tr style=\"text-align: right;\">\n",
       "      <th></th>\n",
       "      <th>season</th>\n",
       "      <th>river_size</th>\n",
       "      <th>fluid_velocity</th>\n",
       "      <th>pH</th>\n",
       "      <th>Oxygen</th>\n",
       "      <th>Chloride</th>\n",
       "      <th>Nitrates</th>\n",
       "      <th>Ammonium</th>\n",
       "      <th>Orthophosphate</th>\n",
       "      <th>Phosphate</th>\n",
       "      <th>Chlorophyll</th>\n",
       "    </tr>\n",
       "  </thead>\n",
       "  <tbody>\n",
       "    <tr>\n",
       "      <td>0</td>\n",
       "      <td>winter</td>\n",
       "      <td>small</td>\n",
       "      <td>medium</td>\n",
       "      <td>8.00</td>\n",
       "      <td>9.8</td>\n",
       "      <td>60.80</td>\n",
       "      <td>6.24</td>\n",
       "      <td>578.00</td>\n",
       "      <td>105.00</td>\n",
       "      <td>170.00</td>\n",
       "      <td>50.0</td>\n",
       "    </tr>\n",
       "    <tr>\n",
       "      <td>1</td>\n",
       "      <td>spring</td>\n",
       "      <td>small</td>\n",
       "      <td>medium</td>\n",
       "      <td>8.35</td>\n",
       "      <td>8.0</td>\n",
       "      <td>57.75</td>\n",
       "      <td>1.29</td>\n",
       "      <td>370.00</td>\n",
       "      <td>428.75</td>\n",
       "      <td>558.75</td>\n",
       "      <td>1.3</td>\n",
       "    </tr>\n",
       "    <tr>\n",
       "      <td>2</td>\n",
       "      <td>autumn</td>\n",
       "      <td>small</td>\n",
       "      <td>medium</td>\n",
       "      <td>8.10</td>\n",
       "      <td>11.4</td>\n",
       "      <td>40.02</td>\n",
       "      <td>5.33</td>\n",
       "      <td>346.67</td>\n",
       "      <td>125.67</td>\n",
       "      <td>187.06</td>\n",
       "      <td>15.6</td>\n",
       "    </tr>\n",
       "    <tr>\n",
       "      <td>3</td>\n",
       "      <td>spring</td>\n",
       "      <td>small</td>\n",
       "      <td>medium</td>\n",
       "      <td>8.07</td>\n",
       "      <td>4.8</td>\n",
       "      <td>77.36</td>\n",
       "      <td>2.30</td>\n",
       "      <td>98.18</td>\n",
       "      <td>61.18</td>\n",
       "      <td>138.70</td>\n",
       "      <td>1.4</td>\n",
       "    </tr>\n",
       "    <tr>\n",
       "      <td>4</td>\n",
       "      <td>autumn</td>\n",
       "      <td>small</td>\n",
       "      <td>medium</td>\n",
       "      <td>8.06</td>\n",
       "      <td>9.0</td>\n",
       "      <td>55.35</td>\n",
       "      <td>10.42</td>\n",
       "      <td>233.70</td>\n",
       "      <td>58.22</td>\n",
       "      <td>97.58</td>\n",
       "      <td>10.5</td>\n",
       "    </tr>\n",
       "  </tbody>\n",
       "</table>\n",
       "</div>"
      ],
      "text/plain": [
       "   season river_size fluid_velocity     pH  Oxygen  Chloride  Nitrates  \\\n",
       "0  winter      small          medium  8.00     9.8     60.80      6.24   \n",
       "1  spring      small          medium  8.35     8.0     57.75      1.29   \n",
       "2  autumn      small          medium  8.10    11.4     40.02      5.33   \n",
       "3  spring      small          medium  8.07     4.8     77.36      2.30   \n",
       "4  autumn      small          medium  8.06     9.0     55.35     10.42   \n",
       "\n",
       "   Ammonium  Orthophosphate  Phosphate  Chlorophyll  \n",
       "0    578.00          105.00     170.00         50.0  \n",
       "1    370.00          428.75     558.75          1.3  \n",
       "2    346.67          125.67     187.06         15.6  \n",
       "3     98.18           61.18     138.70          1.4  \n",
       "4    233.70           58.22      97.58         10.5  "
      ]
     },
     "execution_count": 2,
     "metadata": {},
     "output_type": "execute_result"
    }
   ],
   "source": [
    "data.head()"
   ]
  },
  {
   "cell_type": "markdown",
   "metadata": {
    "pycharm": {
     "name": "#%% md\n"
    }
   },
   "source": [
    "The advantage of the use of such methods is just to inspect if the loading process occurred without problems.\n",
    "\n",
    "In order to see the number of variables, you can use the property <code>columns</code>. Note that <code>ndim</code> does \n",
    "not correspond to the expected number, because it corresponds to the number of dimensions in a dataframe, where each \n",
    "column does not correspond to a different dimension."
   ]
  },
  {
   "cell_type": "code",
   "execution_count": 3,
   "metadata": {
    "pycharm": {
     "is_executing": false,
     "name": "#%%\n"
    },
    "scrolled": true
   },
   "outputs": [
    {
     "data": {
      "text/plain": [
       "Index(['season', 'river_size', 'fluid_velocity ', 'pH', 'Oxygen', 'Chloride',\n",
       "       'Nitrates', 'Ammonium', 'Orthophosphate', 'Phosphate', 'Chlorophyll'],\n",
       "      dtype='object')"
      ]
     },
     "execution_count": 3,
     "metadata": {},
     "output_type": "execute_result"
    }
   ],
   "source": [
    "data.columns"
   ]
  },
  {
   "cell_type": "markdown",
   "metadata": {
    "pycharm": {
     "name": "#%% md\n"
    }
   },
   "source": [
    "In order to inspect the number of records (rows) in your data, you can apply the <code>len</code> function over the \n",
    "dataframe. Again, note that <code>size</code> doesn't return the same value. "
   ]
  },
  {
   "cell_type": "code",
   "execution_count": 4,
   "metadata": {
    "pycharm": {
     "is_executing": false,
     "name": "#%%\n"
    },
    "scrolled": true
   },
   "outputs": [
    {
     "data": {
      "text/plain": [
       "200"
      ]
     },
     "execution_count": 4,
     "metadata": {},
     "output_type": "execute_result"
    }
   ],
   "source": [
    "len(data)"
   ]
  },
  {
   "cell_type": "markdown",
   "metadata": {
    "pycharm": {
     "name": "#%% md\n"
    }
   },
   "source": [
    "Another way to inspect the dataset size, we can use the <code>shape</code> method, which returns the number of records \n",
    "and the number of variables, on the first and second position of the tuple, respectively."
   ]
  },
  {
   "cell_type": "code",
   "execution_count": 5,
   "metadata": {
    "pycharm": {
     "is_executing": false,
     "name": "#%%\n"
    },
    "scrolled": true
   },
   "outputs": [
    {
     "data": {
      "text/plain": [
       "(200, 11)"
      ]
     },
     "execution_count": 5,
     "metadata": {},
     "output_type": "execute_result"
    }
   ],
   "source": [
    "data.shape"
   ]
  },
  {
   "cell_type": "markdown",
   "metadata": {},
   "source": [
    "<h3 style=\"font-family:Arial;color:#6c6c6c;font-size:25px;\">Single Variable Analysis</h3>\n",
    "<h4 style=\"font-family:Arial;color:#6c6c6c;font-size:20px;font-style:italic;\">Variables Type and Domain</h4>\n",
    "\n",
    "The analysis of each variable by itself (non relating them with each other), depends on its type. Each variable in a \n",
    "DataFrame has one of the numpy types (float, int, bool, timedelta64[ns] and datetime64[ns]), or one of \n",
    "<a href=\"https://pandas.pydata.org/pandas-docs/stable/ecosystem.html#ecosystem-extensions\">pandas extension types.</a>\n",
    "\n",
    "The property <code>dtypes</code> applied to the data object, returns a pandas Series (an object to represent a single \n",
    "column) with all the names of the variables in the dataset, and their corresponding types."
   ]
  },
  {
   "cell_type": "code",
   "execution_count": 6,
   "metadata": {
    "pycharm": {
     "is_executing": false,
     "name": "#%%\n"
    },
    "scrolled": true
   },
   "outputs": [
    {
     "data": {
      "text/plain": [
       "season              object\n",
       "river_size          object\n",
       "fluid_velocity      object\n",
       "pH                 float64\n",
       "Oxygen             float64\n",
       "Chloride           float64\n",
       "Nitrates           float64\n",
       "Ammonium           float64\n",
       "Orthophosphate     float64\n",
       "Phosphate          float64\n",
       "Chlorophyll        float64\n",
       "dtype: object"
      ]
     },
     "execution_count": 6,
     "metadata": {},
     "output_type": "execute_result"
    }
   ],
   "source": [
    "data.dtypes"
   ]
  },
  {
   "cell_type": "markdown",
   "metadata": {
    "pycharm": {
     "name": "#%% md\n"
    }
   },
   "source": [
    "From the results shown, we see that from the 11 variables, 8 are numeric (<code>float64</code>) and 3 are \n",
    "non-numeric (<code>season, river_size</code> and <code>fluid_velocity</code>).\n",
    "\n",
    "In order to explore those 3 variables, lets see what are the values for each one of them. For that we can select just \n",
    "the non-numeric variables directly through <code>select_dtypes</code> method, returning a Series object. Then apply \n",
    "the <code>unique</code> method to each column."
   ]
  },
  {
   "cell_type": "code",
   "execution_count": 7,
   "metadata": {
    "pycharm": {
     "is_executing": false,
     "name": "#%%\n"
    },
    "scrolled": true
   },
   "outputs": [
    {
     "name": "stdout",
     "output_type": "stream",
     "text": [
      "season ['winter' 'spring' 'autumn' 'summer']\n",
      "river_size ['small' 'medium' 'large']\n",
      "fluid_velocity  ['medium' 'high' 'low']\n"
     ]
    }
   ],
   "source": [
    "cat_vars = data.select_dtypes(include='object')\n",
    "for att in cat_vars:\n",
    "    print(att, data[att].unique())"
   ]
  },
  {
   "cell_type": "markdown",
   "metadata": {
    "pycharm": {
     "name": "#%% md\n"
    }
   },
   "source": [
    "As we can see, all the 3 variables present a few different string values, which means that they should be categorical \n",
    "variables.\n",
    "\n",
    "In order to change the dataframe, we can cast the data values to be recognized as categorical, through the application \n",
    "of the <code>astype</code> method to each column in the dataframe. "
   ]
  },
  {
   "cell_type": "code",
   "execution_count": 8,
   "metadata": {
    "pycharm": {
     "is_executing": false,
     "name": "#%%\n"
    },
    "scrolled": true
   },
   "outputs": [
    {
     "data": {
      "text/plain": [
       "season             category\n",
       "river_size         category\n",
       "fluid_velocity     category\n",
       "pH                  float64\n",
       "Oxygen              float64\n",
       "Chloride            float64\n",
       "Nitrates            float64\n",
       "Ammonium            float64\n",
       "Orthophosphate      float64\n",
       "Phosphate           float64\n",
       "Chlorophyll         float64\n",
       "dtype: object"
      ]
     },
     "execution_count": 8,
     "metadata": {},
     "output_type": "execute_result"
    }
   ],
   "source": [
    "data[cat_vars.columns] = data.select_dtypes(['object']).apply(lambda x: x.astype('category'))\n",
    "data.dtypes"
   ]
  },
  {
   "cell_type": "markdown",
   "metadata": {
    "pycharm": {
     "is_executing": false,
     "name": "#%% md\n"
    }
   },
   "source": [
    "<h4 style=\"font-family:Arial;color:#6c6c6c;font-size:20px;font-style:italic;\">Missing values</h4>\n",
    "\n",
    "Another important issue when dealing with large datasets is to analyse the existence of missing data. A simple way to\n",
    "identify the proportions of this problem is just use the <code>isna</code> command. You can analyze the numbers by plotting \n",
    "them through a bar chart."
   ]
  },
  {
   "cell_type": "code",
   "execution_count": 9,
   "metadata": {
    "pycharm": {
     "is_executing": false,
     "name": "#%%\n"
    }
   },
   "outputs": [
    {
     "data": {
      "text/plain": [
       "<Figure size 640x480 with 1 Axes>"
      ]
     },
     "metadata": {},
     "output_type": "display_data"
    }
   ],
   "source": [
    "import matplotlib.pyplot as _plt\n",
    "import numpy as np\n",
    "\n",
    "def bar_chart(series, labels, title):\n",
    "    _plt.title(title)\n",
    "    _plt.ylabel(\"number of \")\n",
    "    x = np.arange(len(series))\n",
    "    _plt.xticks(x, labels, rotation='vertical')\n",
    "    _plt.bar(x, series, edgecolor='grey')\n",
    "\n",
    "_plt.figure()\n",
    "mv = {}\n",
    "for var in data:\n",
    "    mv[var] = data[var].isna().sum()\n",
    "bar_chart(mv.values(), mv.keys(), \"Number of missing values per variable\")\n",
    "_plt.tight_layout()\n",
    "_plt.show()"
   ]
  },
  {
   "cell_type": "markdown",
   "metadata": {},
   "source": [
    "<h4 style=\"font-family:Arial;color:#6c6c6c;font-size:20px;font-style:italic;\">Variables Distribution</h4>\n",
    "\n",
    "As seen above, getting the different values of a categorical variable is trivial, but the same does not fit numeric \n",
    "ones. Indeed, we don't want to see all values assumed by a real variable.\n",
    "\n",
    "For numeric variables, the way to inspect their range encompasses studying their minimum and maximum values, along \n",
    "with other estimators, like the mean, mode, standard deviation and other different percentiles, which allows for the best\n",
    "description of this kind of variables.\n",
    "\n",
    "The <code>describe</code> method, applied to the dataframe, gives the 5-number summary for each numeric variable."
   ]
  },
  {
   "cell_type": "code",
   "execution_count": 10,
   "metadata": {
    "pycharm": {
     "is_executing": false,
     "name": "#%%\n"
    },
    "scrolled": true
   },
   "outputs": [
    {
     "data": {
      "text/html": [
       "<div>\n",
       "<style scoped>\n",
       "    .dataframe tbody tr th:only-of-type {\n",
       "        vertical-align: middle;\n",
       "    }\n",
       "\n",
       "    .dataframe tbody tr th {\n",
       "        vertical-align: top;\n",
       "    }\n",
       "\n",
       "    .dataframe thead th {\n",
       "        text-align: right;\n",
       "    }\n",
       "</style>\n",
       "<table border=\"1\" class=\"dataframe\">\n",
       "  <thead>\n",
       "    <tr style=\"text-align: right;\">\n",
       "      <th></th>\n",
       "      <th>pH</th>\n",
       "      <th>Oxygen</th>\n",
       "      <th>Chloride</th>\n",
       "      <th>Nitrates</th>\n",
       "      <th>Ammonium</th>\n",
       "      <th>Orthophosphate</th>\n",
       "      <th>Phosphate</th>\n",
       "      <th>Chlorophyll</th>\n",
       "    </tr>\n",
       "  </thead>\n",
       "  <tbody>\n",
       "    <tr>\n",
       "      <td>count</td>\n",
       "      <td>199.000000</td>\n",
       "      <td>198.000000</td>\n",
       "      <td>190.000000</td>\n",
       "      <td>198.000000</td>\n",
       "      <td>198.000000</td>\n",
       "      <td>198.000000</td>\n",
       "      <td>198.000000</td>\n",
       "      <td>188.000000</td>\n",
       "    </tr>\n",
       "    <tr>\n",
       "      <td>mean</td>\n",
       "      <td>8.011759</td>\n",
       "      <td>9.117778</td>\n",
       "      <td>43.636842</td>\n",
       "      <td>3.282828</td>\n",
       "      <td>154.447475</td>\n",
       "      <td>83.325909</td>\n",
       "      <td>111.550808</td>\n",
       "      <td>13.541011</td>\n",
       "    </tr>\n",
       "    <tr>\n",
       "      <td>std</td>\n",
       "      <td>0.598302</td>\n",
       "      <td>2.391253</td>\n",
       "      <td>46.830993</td>\n",
       "      <td>3.776458</td>\n",
       "      <td>180.011207</td>\n",
       "      <td>116.783165</td>\n",
       "      <td>102.214088</td>\n",
       "      <td>20.448323</td>\n",
       "    </tr>\n",
       "    <tr>\n",
       "      <td>min</td>\n",
       "      <td>5.600000</td>\n",
       "      <td>1.500000</td>\n",
       "      <td>0.220000</td>\n",
       "      <td>0.050000</td>\n",
       "      <td>5.000000</td>\n",
       "      <td>1.000000</td>\n",
       "      <td>0.900000</td>\n",
       "      <td>0.000000</td>\n",
       "    </tr>\n",
       "    <tr>\n",
       "      <td>25%</td>\n",
       "      <td>7.700000</td>\n",
       "      <td>7.725000</td>\n",
       "      <td>10.985000</td>\n",
       "      <td>1.297500</td>\n",
       "      <td>35.625000</td>\n",
       "      <td>16.000000</td>\n",
       "      <td>19.395000</td>\n",
       "      <td>2.000000</td>\n",
       "    </tr>\n",
       "    <tr>\n",
       "      <td>50%</td>\n",
       "      <td>8.060000</td>\n",
       "      <td>9.800000</td>\n",
       "      <td>32.730000</td>\n",
       "      <td>2.675000</td>\n",
       "      <td>99.665000</td>\n",
       "      <td>41.400000</td>\n",
       "      <td>84.500000</td>\n",
       "      <td>5.200000</td>\n",
       "    </tr>\n",
       "    <tr>\n",
       "      <td>75%</td>\n",
       "      <td>8.400000</td>\n",
       "      <td>10.800000</td>\n",
       "      <td>57.825000</td>\n",
       "      <td>4.447500</td>\n",
       "      <td>203.730000</td>\n",
       "      <td>102.247500</td>\n",
       "      <td>182.160000</td>\n",
       "      <td>18.300000</td>\n",
       "    </tr>\n",
       "    <tr>\n",
       "      <td>max</td>\n",
       "      <td>9.700000</td>\n",
       "      <td>13.400000</td>\n",
       "      <td>391.500000</td>\n",
       "      <td>45.650000</td>\n",
       "      <td>931.830000</td>\n",
       "      <td>771.600000</td>\n",
       "      <td>558.750000</td>\n",
       "      <td>110.460000</td>\n",
       "    </tr>\n",
       "  </tbody>\n",
       "</table>\n",
       "</div>"
      ],
      "text/plain": [
       "               pH      Oxygen    Chloride    Nitrates    Ammonium  \\\n",
       "count  199.000000  198.000000  190.000000  198.000000  198.000000   \n",
       "mean     8.011759    9.117778   43.636842    3.282828  154.447475   \n",
       "std      0.598302    2.391253   46.830993    3.776458  180.011207   \n",
       "min      5.600000    1.500000    0.220000    0.050000    5.000000   \n",
       "25%      7.700000    7.725000   10.985000    1.297500   35.625000   \n",
       "50%      8.060000    9.800000   32.730000    2.675000   99.665000   \n",
       "75%      8.400000   10.800000   57.825000    4.447500  203.730000   \n",
       "max      9.700000   13.400000  391.500000   45.650000  931.830000   \n",
       "\n",
       "       Orthophosphate   Phosphate  Chlorophyll  \n",
       "count      198.000000  198.000000   188.000000  \n",
       "mean        83.325909  111.550808    13.541011  \n",
       "std        116.783165  102.214088    20.448323  \n",
       "min          1.000000    0.900000     0.000000  \n",
       "25%         16.000000   19.395000     2.000000  \n",
       "50%         41.400000   84.500000     5.200000  \n",
       "75%        102.247500  182.160000    18.300000  \n",
       "max        771.600000  558.750000   110.460000  "
      ]
     },
     "execution_count": 10,
     "metadata": {},
     "output_type": "execute_result"
    }
   ],
   "source": [
    "data.describe()"
   ]
  },
  {
   "cell_type": "markdown",
   "metadata": {
    "pycharm": {
     "name": "#%% md\n"
    }
   },
   "source": [
    "Note that by default, the <code>describe</code> command only shows the summary for numeric variables. In order to \n",
    "inspect all of them, we can require all through <code>data.describe(include='all')</code>\n",
    "\n",
    "Those numbers alone, give all the information required, but it's not easy to interpret. A better way to understand the \n",
    "impact of such values is through the analysis of boxplots for each variable.\n",
    "\n",
    "In order to show such charts, we may use the <code>matplotlib</code> package, to define different routines for displaying \n",
    "the different charts needed to explore our data.\n"
   ]
  },
  {
   "cell_type": "code",
   "execution_count": null,
   "metadata": {
    "pycharm": {
     "is_executing": true,
     "name": "#%%\n"
    },
    "scrolled": true
   },
   "outputs": [],
   "source": [
    "_plt.figure(figsize=[10,6])\n",
    "data.boxplot()\n",
    "_plt.show() "
   ]
  },
  {
   "cell_type": "markdown",
   "metadata": {},
   "source": [
    "Despite the ability to see the relations among the different value ranges for all variables, it is difficult to analyze \n",
    "each one in particular, due to the different scales.\n",
    "\n",
    "In order to address this difference, we can plot singular boxplots for each variable. Defining a simple function to draw\n",
    "this kind of chart, is one of the more effective ways to accomplish it."
   ]
  },
  {
   "cell_type": "code",
   "execution_count": null,
   "metadata": {
    "pycharm": {
     "is_executing": true
    },
    "scrolled": false
   },
   "outputs": [],
   "source": [
    "def choose_grid(nr):\n",
    "    return nr // 5 + 1, 5\n",
    "    \n",
    "def boxplot(series, var, rows, cols, n):\n",
    "    _plt.subplot(rows, cols, n)\n",
    "    _plt.title(\"Boxplot for %s\"%var)\n",
    "    _plt.boxplot(series)\n",
    "\n",
    "size = 3\n",
    "columns = data.select_dtypes(include='number').columns\n",
    "n_rows, n_cols = choose_grid(len(columns))\n",
    "_plt.figure(figsize=[n_cols * size, n_rows * size])\n",
    "for i in range(len(columns)):\n",
    "    var = columns[i]\n",
    "    boxplot(data[var].dropna().values, var, n_rows, n_cols, i+1)\n",
    "_plt.tight_layout()\n",
    "_plt.show()\n",
    "    "
   ]
  },
  {
   "cell_type": "markdown",
   "metadata": {
    "pycharm": {
     "name": "#%% md\n"
    }
   },
   "source": [
    "Another possibility is to plot the histogram for each numeric variable, through the use of <code>hist</code> method."
   ]
  },
  {
   "cell_type": "code",
   "execution_count": null,
   "metadata": {
    "pycharm": {
     "is_executing": true,
     "name": "#%% \n"
    },
    "scrolled": false
   },
   "outputs": [],
   "source": [
    "def histogram_4_numeric(series, var, rows, cols, n, nbins='auto'):\n",
    "    _plt.subplot(rows, cols, n)\n",
    "    _plt.title(\"Histogram for \" + var)\n",
    "    _plt.xlabel(var)\n",
    "    _plt.ylabel(\"probability\")\n",
    "    _plt.hist(series, nbins, density=True, facecolor=\"blue\", edgecolor='grey')\n",
    "    \n",
    "columns = data.select_dtypes(include='number').columns\n",
    "n_rows, n_cols = choose_grid(len(columns))    \n",
    "_plt.figure(figsize=[n_cols * size, n_rows * size])\n",
    "for i in range(len(columns)):\n",
    "    var = columns[i]\n",
    "    histogram_4_numeric(data[var].dropna().values, var, n_rows, n_cols, i+1)\n",
    "_plt.tight_layout()\n",
    "_plt.show()"
   ]
  },
  {
   "cell_type": "markdown",
   "metadata": {},
   "source": [
    "Histograms for categorical variables may also be produced, just through the use of bar charts."
   ]
  },
  {
   "cell_type": "code",
   "execution_count": null,
   "metadata": {
    "pycharm": {
     "is_executing": true,
     "name": "#%%\n"
    }
   },
   "outputs": [],
   "source": [
    "def histogram_4_categorical(series, var, rows, cols, n):\n",
    "    _plt.subplot(rows, cols, n)\n",
    "    _plt.title(\"Histogram for %s\"%var)\n",
    "    _plt.xlabel(var)\n",
    "    _plt.ylabel(\"probability\")\n",
    "    \n",
    "    counts = series.value_counts(normalize=True)\n",
    "    bar_chart(counts.values, counts.index, \"Histogram for %s\"%var)\n",
    "\n",
    "columns = data.select_dtypes(include='category').columns\n",
    "n_rows, n_cols = choose_grid(len(columns))    \n",
    "_plt.figure(figsize=[n_cols * size, n_rows * size])\n",
    "for i in range(len(columns)):\n",
    "    histogram_4_categorical(data[columns[i]].dropna(), columns[i], n_rows, n_cols, i+1)\n",
    "_plt.tight_layout()\n",
    "_plt.show()"
   ]
  },
  {
   "cell_type": "markdown",
   "metadata": {},
   "source": [
    "Indeed histograms give us an insight about the distribution of each variable, but recognizing the distribution that \n",
    "best fits the data may be hard.\n",
    "<code>Seaborn</code> provides the <code>distplot</code> method to display the best fit for the variable. See for example \n",
    "the best fits for pH and Ammonium variables:"
   ]
  },
  {
   "cell_type": "code",
   "execution_count": null,
   "metadata": {
    "pycharm": {
     "is_executing": true,
     "name": "#%%\n"
    }
   },
   "outputs": [],
   "source": [
    "import seaborn as _sns\n",
    "\n",
    "columns = data.select_dtypes(include='number').columns\n",
    "n_rows, n_cols = choose_grid(len(columns))    \n",
    "_plt.figure(figsize=[n_cols * size, n_rows * size])\n",
    "for i in range(len(columns)):\n",
    "    var = columns[i]\n",
    "    _plt.subplot(n_rows, n_cols, i+1)\n",
    "    _plt.title('Histogram with trend for %s'%var)\n",
    "    _sns.distplot(data[var].dropna().values, norm_hist=True)\n",
    "_plt.tight_layout()\n",
    "_plt.show()"
   ]
  },
  {
   "cell_type": "markdown",
   "metadata": {
    "pycharm": {
     "name": "#%% md\n"
    }
   },
   "source": [
    " \n",
    "Despite the simplicity of this approach, we are not able to verify how much standard distributions fit to the data. \n",
    "In order to do that, we can try to fit different known distributions to it, using <code>scipy.stats</code> package\n",
    "functionalities to compute distributions (<code>norm, expon, skewnorm, etc</code>).\n",
    "Lets look at the histogram for the pH and Ammonium variables, and possible distributions..."
   ]
  },
  {
   "cell_type": "code",
   "execution_count": null,
   "metadata": {
    "pycharm": {
     "is_executing": true,
     "name": "#%%\n"
    }
   },
   "outputs": [],
   "source": [
    "def plot_multiple_line_chart(title: str, x_name: str, y_name: str, x_values: list, y_values: dict):\n",
    "    legend: list = []\n",
    "    _plt.xlabel(x_name)\n",
    "    _plt.ylabel(y_name)\n",
    "    _plt.title(title)\n",
    "    for name, y in y_values.items():\n",
    "        _plt.plot(x_values, y)\n",
    "        legend.append(name)\n",
    "    _plt.legend(legend, loc='best', bbox_to_anchor=(1, -0.15),fancybox = True, shadow = True)    \n",
    "    #_plt.legend(legend, loc='lower center')\n",
    "\n",
    "import scipy.stats as _stats \n",
    "def compute_known_distributions(x_values, n_bins) -> dict:\n",
    "    distributions = dict()\n",
    "    # Gaussian\n",
    "    mean, sigma = _stats.norm.fit(x_values)\n",
    "    distributions['Normal(%.1f,%.2f)'%(mean,sigma)] = _stats.norm.pdf(x_values, mean, sigma)\n",
    "    # LogNorm\n",
    "  #  sigma, loc, scale = _stats.lognorm.fit(x_values)\n",
    "  #  distributions['LogNor(%.1f,%.2f)'%(np.log(scale),sigma)] = _stats.lognorm.pdf(x_values, sigma, loc, scale)\n",
    "    # Exponential\n",
    "    loc, scale = _stats.expon.fit(x_values)\n",
    "    distributions['Exp(%.2f)'%(1/scale)] = _stats.expon.pdf(x_values, loc, scale)\n",
    "    # SkewNorm\n",
    "   # a, loc, scale = _stats.skewnorm.fit(x_values)\n",
    "   # distributions['SkewNorm(%.2f)'%a] = _stats.skewnorm.pdf(x_values, a, loc, scale)\n",
    "    \n",
    "    return distributions\n",
    "\n",
    "def histogram_with_distributions(series, var, rows, cols, n):\n",
    "    _plt.subplot(rows, cols, n)\n",
    "    values = series.sort_values().values\n",
    "    n, bins, patches = _plt.hist(values, 20, density=True, edgecolor='grey')\n",
    "    distributions = compute_known_distributions(values, bins)\n",
    "    plot_multiple_line_chart('Best fit for %s'%var, var, 'probability', \n",
    "                             values, distributions)\n",
    "    \n",
    "columns = data.select_dtypes(include='number').columns\n",
    "n_rows, n_cols = choose_grid(len(columns))    \n",
    "_plt.figure(figsize=[n_cols * size, n_rows * size])\n",
    "for i in range(len(columns)):\n",
    "    var = columns[i]\n",
    "    histogram_with_distributions(data[var].dropna(), var, n_rows, n_cols, i+1)\n",
    "_plt.tight_layout()\n",
    "_plt.show()\n"
   ]
  },
  {
   "cell_type": "markdown",
   "metadata": {},
   "source": [
    "<h4 style=\"font-family:Arial;color:#6c6c6c;font-size:20px;font-style:italic;\">Granularity</h4>\n",
    "\n"
   ]
  },
  {
   "cell_type": "markdown",
   "metadata": {},
   "source": [
    "At last, the granularity at which we analyze each variable also plays a fundamental role. Indeed, when we plot the histogram for each variable, we have to determine the number of bins used to discretize the data. Until now, we used the default value for the <code>hist</code> method (<code>nbins='auto'</code>), which chooses it according to \n",
    "In the next figure, we show five different discretizations for each numeric variable. From these charts, we can se that each bin in the first discretization accumulates a large different frequent values. Comparing the first to the last one (with 5 and 90 bins, respectively) is easy to understand the differences shapes in the variable distribution.\n",
    "Naturaly, for a numeric variable, the highest the number of bins, closer it will be to the real distribution of the data. "
   ]
  },
  {
   "cell_type": "code",
   "execution_count": null,
   "metadata": {
    "pycharm": {
     "is_executing": true
    }
   },
   "outputs": [],
   "source": [
    "columns = data.select_dtypes(include='number').columns\n",
    "n_rows = len(columns)\n",
    "n_cols = 5\n",
    "_plt.figure(figsize=[n_cols * size, n_rows * size])\n",
    "j=1\n",
    "for i in range(len(columns)):\n",
    "    var = columns[i]\n",
    "    for bins in range(5, 100, 20):\n",
    "        histogram_4_numeric(data[var].dropna().values, var, n_rows, n_cols, j, nbins=bins)\n",
    "        j += 1\n",
    "_plt.tight_layout()\n",
    "_plt.show()\n"
   ]
  },
  {
   "cell_type": "markdown",
   "metadata": {},
   "source": [
    "<h3 style=\"font-family:Arial;color:#6c6c6c;font-size:25px;\">Multi-Variate Analysis</h3>\n",
    "\n",
    "The multi-variate analysis encompasses the cross analysis of the instances projected to just a few of its variables (usually only two).\n",
    "In practice, these projections are achieved through bidimensional charts, visualizing one variable against another.\n",
    "\n",
    "<h4 style=\"font-family:Arial;color:#6c6c6c;font-size:20px;font-style:italic;\">Sparsity</h4>\n",
    "\n",
    "A dataset is said to be sparse when most of the space defined by its variables is not covered by the instances in the dataset.\n",
    "A way to have some insight over the sparsity of data is to use scatter plots to project the data along two of its defining variables. To do it, we can use the <code>scatter</code> method.\n"
   ]
  },
  {
   "cell_type": "code",
   "execution_count": null,
   "metadata": {
    "pycharm": {
     "is_executing": true
    }
   },
   "outputs": [],
   "source": [
    "def scatter_plot(values, var1, var2, rows, cols, n):\n",
    "    _plt.subplot(rows, cols, n)\n",
    "    _plt.title(\"%s x %s\"%(var1,var2))\n",
    "    _plt.xlabel(var1)\n",
    "    _plt.ylabel(var2)\n",
    "    _plt.scatter(values[var1], values[var2])\n",
    "\n",
    "columns = data.select_dtypes(include='number').columns\n",
    "n_rows,n_cols = choose_grid((len(columns)-1)*(len(columns)-1))\n",
    "_plt.figure(figsize=[n_cols * size, n_rows * size])\n",
    "n=1\n",
    "for i in range(len(columns)):\n",
    "    for j in range(i+1, len(columns)):\n",
    "        scatter_plot(data, columns[i], columns[j], n_rows, n_cols, n)\n",
    "        n += 1\n",
    "_plt.tight_layout()\n",
    "_plt.show()"
   ]
  },
  {
   "cell_type": "markdown",
   "metadata": {},
   "source": [
    "\n",
    "<h4 style=\"font-family:Arial;color:#6c6c6c;font-size:20px;font-style:italic;\">Correlation analysis</h4>\n",
    "\n",
    "Despite showing data sparsity, scatter plots are also usefull for showing the correlation among variables.\n",
    "However, in the presence of large dimensionality, a heatmap is easier to analyze.\n",
    "To do it, we can use the <code>heatmap</code> from the <code>seaborn</code> package.\n"
   ]
  },
  {
   "cell_type": "code",
   "execution_count": 22,
   "metadata": {
    "pycharm": {
     "is_executing": true
    }
   },
   "outputs": [
    {
     "data": {
      "image/png": "[encoded data removed]",
      "text/plain": [
       "<Figure size 432x432 with 2 Axes>"
      ]
     },
     "metadata": {
      "needs_background": "light"
     },
     "output_type": "display_data"
    }
   ],
   "source": [
    "\n",
    "fig = _plt.figure(figsize=[6, 6])\n",
    "corr_mtx = data.corr()\n",
    "_sns.heatmap(corr_mtx, xticklabels=corr_mtx.columns, yticklabels=corr_mtx.columns, annot=True, cmap='Blues')\n",
    "_plt.title('Correlation analysis')\n",
    "_plt.show()\n"
   ]
  },
  {
   "cell_type": "code",
   "execution_count": null,
   "metadata": {
    "pycharm": {
     "is_executing": true
    }
   },
   "outputs": [],
   "source": []
  }
 ],
 "metadata": {
  "kernelspec": {
   "display_name": "Python 3",
   "language": "python",
   "name": "python3"
  },
  "language_info": {
   "codemirror_mode": {
    "name": "ipython",
    "version": 3
   },
   "file_extension": ".py",
   "mimetype": "text/x-python",
   "name": "python",
   "nbconvert_exporter": "python",
   "pygments_lexer": "ipython3",
   "version": "3.7.3"
  },
  "pycharm": {
   "stem_cell": {
    "cell_type": "raw",
    "metadata": {
     "collapsed": false
    },
    "source": []
   }
  }
 },
 "nbformat": 4,
 "nbformat_minor": 1
}
