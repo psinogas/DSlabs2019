{
 "cells": [
  {
   "cell_type": "markdown",
   "metadata": {},
   "source": [
    "<table bgcolor=#ffffff align=\"center\" width=\"100%\" noborder>\n",
    "    <tr>\n",
    "        <td align=\"left\" width=\"30%\"><img src=\"images/IST_logo.png\" width=\"50%\"></td>\n",
    "        <td width=\"40%\"></td>\n",
    "        <td align=\"right\" width=\"30%\"><img src=\"images/ds_logo.png\" width=\"25%\">\n",
    "    </tr>\n",
    "</table>\n",
    "<h1 align=\"center\" style=\"font-family:Arial;color:#00004d;font-size:40px;\">Data Science Labs</h1>"
   ]
  },
  {
   "cell_type": "markdown",
   "metadata": {},
   "source": [
    "<h2 align=\"center\" style=\"font-family:Arial;color:#6c6c6c;font-size:30px;\">Lab 1: Data Exploration</h2>\n",
    "\n",
    "The first step in every data science project is to explore the existing data. In order to do that, you need to load each\n",
    "data file available, and analyze it careful and systematically.\n",
    "\n",
    "<p align=\"center\"><img src=\"images/data_exploration.png\" width=\"50%\">\n",
    "\n",
    "From now on, we will make use of the functions previously defined to plot charts, available in the different notebooks \n",
    "in our course and saved in the <i>functions.ipynb</i> file."
   ]
  },
  {
   "cell_type": "code",
   "execution_count": 1,
   "metadata": {
    "pycharm": {
     "is_executing": false,
     "name": "#%%\n"
    }
   },
   "outputs": [
    {
     "traceback": [
      "\u001b[0;31m---------------------------------------------------------------------------\u001b[0m",
      "\u001b[0;31mNameError\u001b[0m                                 Traceback (most recent call last)",
      "\u001b[0;32m<ipython-input-1-8d691ef462b4>\u001b[0m in \u001b[0;36m<module>\u001b[0;34m\u001b[0m\n\u001b[1;32m      6\u001b[0m    \u001b[0;34m\"execution_count\"\u001b[0m\u001b[0;34m:\u001b[0m \u001b[0;36m1\u001b[0m\u001b[0;34m,\u001b[0m\u001b[0;34m\u001b[0m\u001b[0;34m\u001b[0m\u001b[0m\n\u001b[1;32m      7\u001b[0m    \"metadata\": {\n\u001b[0;32m----> 8\u001b[0;31m     \u001b[0;34m\"collapsed\"\u001b[0m\u001b[0;34m:\u001b[0m \u001b[0mtrue\u001b[0m\u001b[0;34m,\u001b[0m\u001b[0;34m\u001b[0m\u001b[0;34m\u001b[0m\u001b[0m\n\u001b[0m\u001b[1;32m      9\u001b[0m     \"pycharm\": {\n\u001b[1;32m     10\u001b[0m      \u001b[0;34m\"is_executing\"\u001b[0m\u001b[0;34m:\u001b[0m \u001b[0mfalse\u001b[0m\u001b[0;34m\u001b[0m\u001b[0;34m\u001b[0m\u001b[0m\n",
      "\u001b[0;31mNameError\u001b[0m: name 'true' is not defined"
     ],
     "ename": "NameError",
     "evalue": "name 'true' is not defined",
     "output_type": "error"
    }
   ],
   "source": [
    "# %load functions.ipynb\n",
    "{\n",
    " \"cells\": [\n",
    "  {\n",
    "   \"cell_type\": \"code\",\n",
    "   \"execution_count\": 1,\n",
    "   \"metadata\": {\n",
    "    \"collapsed\": true,\n",
    "    \"pycharm\": {\n",
    "     \"is_executing\": false\n",
    "    }\n",
    "   },\n",
    "   \"outputs\": [],\n",
    "   \"source\": [\n",
    "    \"import matplotlib.pyplot as plt\\n\",\n",
    "    \"import pandas as pd\\n\",\n",
    "    \"\\n\",\n",
    "    \"def choose_grid(nr):\\n\",\n",
    "    \"    return (nr // 4, 4) if nr%4 == 0 else (nr // 4 +1, 4)\"\n",
    "   ]\n",
    "  },\n",
    "  {\n",
    "   \"cell_type\": \"code\",\n",
    "   \"execution_count\": 2,\n",
    "   \"metadata\": {\n",
    "    \"pycharm\": {\n",
    "     \"is_executing\": false,\n",
    "     \"name\": \"#%%\\n\"\n",
    "    }\n",
    "   },\n",
    "   \"outputs\": [],\n",
    "   \"source\": [\n",
    "    \"def line_chart(ax: plt.Axes, series: pd.Series, title: str, xlabel: str, ylabel: str, ymin: float, ymax: float):\\n\",\n",
    "    \"    ax.set_ylim(ymin, ymax)\\n\",\n",
    "    \"    ax.set_title(title)\\n\",\n",
    "    \"    ax.set_xlabel(xlabel)\\n\",\n",
    "    \"    ax.set_ylabel(ylabel)\\n\",\n",
    "    \"    ax.plot(series)\"\n",
    "   ]\n",
    "  },\n",
    "  {\n",
    "   \"cell_type\": \"code\",\n",
    "   \"execution_count\": 3,\n",
    "   \"metadata\": {\n",
    "    \"pycharm\": {\n",
    "     \"is_executing\": false,\n",
    "     \"name\": \"#%%\\n\"\n",
    "    }\n",
    "   },\n",
    "   \"outputs\": [],\n",
    "   \"source\": [\n",
    "    \"def multiple_line_chart(ax: plt.Axes, xvalues: list, yvalues: dict, title: str, xlabel: str, ylabel: str):\\n\",\n",
    "    \"    legend: list = []\\n\",\n",
    "    \"    ax.set_xlabel(xlabel)\\n\",\n",
    "    \"    ax.set_ylabel(ylabel)\\n\",\n",
    "    \"    ax.set_title(title)\\n\",\n",
    "    \"    for name, y in yvalues.items():\\n\",\n",
    "    \"        ax.plot(xvalues, y)\\n\",\n",
    "    \"        legend.append(name)\\n\",\n",
    "    \"    ax.legend(legend, loc='best', fancybox = True, shadow = True)    \"\n",
    "   ]\n",
    "  },\n",
    "  {\n",
    "   \"cell_type\": \"code\",\n",
    "   \"execution_count\": 4,\n",
    "   \"metadata\": {\n",
    "    \"pycharm\": {\n",
    "     \"is_executing\": false,\n",
    "     \"name\": \"#%%\\n\"\n",
    "    }\n",
    "   },\n",
    "   \"outputs\": [],\n",
    "   \"source\": [\n",
    "    \"def bar_chart(ax: plt.Axes, xvalues: list, yvalues: list, title: str, xlabel: str, ylabel: str):\\n\",\n",
    "    \"    ax.set_title(title)\\n\",\n",
    "    \"    ax.set_xlabel(xlabel)\\n\",\n",
    "    \"    ax.set_ylabel(ylabel)\\n\",\n",
    "    \"    ax.set_xticklabels(xvalues, rotation=90, fontsize='small')\\n\",\n",
    "    \"    ax.bar(xvalues, yvalues, edgecolor='grey', color='cyan')\"\n",
    "   ]\n",
    "  },\n",
    "  {\n",
    "   \"cell_type\": \"code\",\n",
    "   \"execution_count\": 5,\n",
    "   \"metadata\": {\n",
    "    \"pycharm\": {\n",
    "     \"is_executing\": false,\n",
    "     \"name\": \"#%%\\n\"\n",
    "    }\n",
    "   },\n",
    "   \"outputs\": [],\n",
    "   \"source\": [\n",
    "    \"import numpy as np\\n\",\n",
    "    \"def multiple_bar_chart(ax: plt.Axes, xvalues: list, yvalues: dict, title: str, xlabel: str, ylabel: str):\\n\",\n",
    "    \"    ax.set_title(title)\\n\",\n",
    "    \"    ax.set_xlabel(xlabel)\\n\",\n",
    "    \"    ax.set_ylabel(ylabel)\\n\",\n",
    "    \"    x = np.arange(len(xvalues))  # the label locations\\n\",\n",
    "    \"    ax.set_xticks(x)\\n\",\n",
    "    \"    ax.set_xticklabels(xvalues, fontsize='small')\\n\",\n",
    "    \"    width = 0.8  # the width of the bars\\n\",\n",
    "    \"    step = width / len(yvalues)\\n\",\n",
    "    \"    i = 0\\n\",\n",
    "    \"    for name, y in yvalues.items():\\n\",\n",
    "    \"        ax.bar(x + i * step, y, step, label=name)\\n\",\n",
    "    \"        i += 1\\n\",\n",
    "    \"    ax.legend(loc='lower center', ncol=len(yvalues), bbox_to_anchor=(0.5, -0.2), fancybox = True, shadow = True)    \\n\"\n",
    "   ]\n",
    "  }\n",
    " ],\n",
    " \"metadata\": {\n",
    "  \"kernelspec\": {\n",
    "   \"display_name\": \"Python 3\",\n",
    "   \"language\": \"python\",\n",
    "   \"name\": \"python3\"\n",
    "  },\n",
    "  \"language_info\": {\n",
    "   \"codemirror_mode\": {\n",
    "    \"name\": \"ipython\",\n",
    "    \"version\": 3\n",
    "   },\n",
    "   \"file_extension\": \".py\",\n",
    "   \"mimetype\": \"text/x-python\",\n",
    "   \"name\": \"python\",\n",
    "   \"nbconvert_exporter\": \"python\",\n",
    "   \"pygments_lexer\": \"ipython3\",\n",
    "   \"version\": \"3.7.3\"\n",
    "  },\n",
    "  \"pycharm\": {\n",
    "   \"stem_cell\": {\n",
    "    \"cell_type\": \"raw\",\n",
    "    \"source\": [],\n",
    "    \"metadata\": {\n",
    "     \"collapsed\": false\n",
    "    }\n",
    "   }\n",
    "  }\n",
    " },\n",
    " \"nbformat\": 4,\n",
    " \"nbformat_minor\": 1\n",
    "}"
   ]
  },
  {
   "cell_type": "markdown",
   "metadata": {
    "pycharm": {
     "name": "#%% md\n"
    }
   },
   "source": [
    "<h3 style=\"font-family:Arial;color:#6c6c6c;font-size:25px;\">Content identification</h3>\n",
    "\n",
    "Analyzing the data starts with the characterization of the dataset, namely:\n",
    "- recognizing the number of records\n",
    "- and acknowledging the number of variables \n",
    "\n",
    "These two tasks are easily done after loading the data into a <code>DataFrame</code> through the <code>read_csv</code> \n",
    "method (as seen in <a href=\"Lab01_pandas.ipynb#loading\">Lab01 - Loading data with pandas</a>)\n",
    "\n",
    "For example, the property <code>shape</code> is a tuple containing the number of records and the number of variables \n",
    "describing the data."
   ]
  },
  {
   "cell_type": "code",
   "execution_count": null,
   "metadata": {
    "pycharm": {
     "is_executing": false,
     "name": "#%%\n"
    }
   },
   "outputs": [],
   "source": [
    "import pandas as pd\n",
    "from pandas.plotting import register_matplotlib_converters\n",
    "\n",
    "register_matplotlib_converters()\n",
    "data = pd.read_csv('data/algae2.csv', index_col='date', parse_dates=True, infer_datetime_format=True)\n",
    "data.shape"
   ]
  },
  {
   "cell_type": "markdown",
   "metadata": {
    "pycharm": {
     "name": "#%% md\n"
    }
   },
   "source": [
    "\n",
    "<code></code>"
   ]
  },
  {
   "cell_type": "markdown",
   "metadata": {},
   "source": [
    "<h3 id=\"single_var\" style=\"font-family:Arial;color:#6c6c6c;font-size:25px;\">Single Variable Analysis</h3>\n",
    "<h4 style=\"font-family:Arial;color:#6c6c6c;font-size:20px;font-style:italic;\">Variables Type and Domain</h4>\n",
    "\n",
    "After loading the data, we proceed with the analysis of each variable by itself, non relating them with each other. \n",
    "This analysis depends on each variables type, which in a <code>DataFrame</code> has one of the numpy types (float, \n",
    "int, bool, timedelta64[ns] and datetime64[ns]), or one of \n",
    "<a href=\"https://pandas.pydata.org/pandas-docs/stable/ecosystem.html#ecosystem-extensions\">pandas extension types.</a>\n",
    "\n",
    "The property <code>dtypes</code> applied to the data object, returns a pandas <code>Series</code> with all the names \n",
    "of the variables in the dataset, and their corresponding types."
   ]
  },
  {
   "cell_type": "code",
   "execution_count": null,
   "metadata": {
    "pycharm": {
     "is_executing": false,
     "name": "#%%\n"
    },
    "scrolled": true
   },
   "outputs": [],
   "source": [
    "data.dtypes"
   ]
  },
  {
   "cell_type": "markdown",
   "metadata": {
    "pycharm": {
     "name": "#%% md\n"
    }
   },
   "source": [
    "From the results shown, we see that from the 11 variables, 8 are numeric (<code>float64</code>) and 3 are \n",
    "non-numeric (<i>season, river_depth</i> and <i>fluid_velocity</i>).\n",
    "\n",
    "In order to explore those 3 variables, lets see what are the values for each one of them. For that we can select just \n",
    "the non-numeric variables directly through <code>select_dtypes</code> method, returning a Series object. Then apply \n",
    "the <code>unique</code> method to each column."
   ]
  },
  {
   "cell_type": "code",
   "execution_count": null,
   "metadata": {
    "pycharm": {
     "is_executing": false,
     "name": "#%%\n"
    },
    "scrolled": true
   },
   "outputs": [],
   "source": [
    "cat_vars = data.select_dtypes(include='object')\n",
    "for att in cat_vars:\n",
    "    print(att, data[att].unique())"
   ]
  },
  {
   "cell_type": "markdown",
   "metadata": {
    "pycharm": {
     "name": "#%% md\n"
    }
   },
   "source": [
    "As we can see, all the 3 variables present a few different string values, which means that they should be categorical \n",
    "variables.\n",
    "\n",
    "In order to change the dataframe, we can cast the data values to be recognized as categorical, through the application \n",
    "of the <code>astype</code> method to each column in the dataframe. "
   ]
  },
  {
   "cell_type": "code",
   "execution_count": null,
   "metadata": {
    "pycharm": {
     "is_executing": false,
     "name": "#%%\n"
    },
    "scrolled": true
   },
   "outputs": [],
   "source": [
    "data[cat_vars.columns] = data.select_dtypes(['object']).apply(lambda x: x.astype('category'))\n",
    "data.dtypes"
   ]
  },
  {
   "cell_type": "markdown",
   "metadata": {
    "pycharm": {
     "is_executing": false,
     "name": "#%% md\n"
    }
   },
   "source": [
    "<h4 style=\"font-family:Arial;color:#6c6c6c;font-size:20px;font-style:italic;\">Missing values</h4>\n",
    "\n",
    "Another important issue when dealing with large datasets is to analyse the existence of missing data. A simple way to\n",
    "identify the proportions of this problem is just use the <code>isna</code> command. You can analyze the numbers by plotting \n",
    "them through a bar chart."
   ]
  },
  {
   "cell_type": "code",
   "execution_count": null,
   "outputs": [],
   "source": [
    "# %load functions.ipynb\n",
    "{\n",
    " \"cells\": [\n",
    "  {\n",
    "   \"cell_type\": \"code\",\n",
    "   \"execution_count\": 1,\n",
    "   \"metadata\": {\n",
    "    \"collapsed\": true,\n",
    "    \"pycharm\": {\n",
    "     \"is_executing\": false\n",
    "    }\n",
    "   },\n",
    "   \"outputs\": [],\n",
    "   \"source\": [\n",
    "    \"import matplotlib.pyplot as plt\\n\",\n",
    "    \"import pandas as pd\\n\",\n",
    "    \"\\n\",\n",
    "    \"def choose_grid(nr):\\n\",\n",
    "    \"    return (nr // 4, 4) if nr%4 == 0 else (nr // 4 +1, 4)\"\n",
    "   ]\n",
    "  },\n",
    "  {\n",
    "   \"cell_type\": \"code\",\n",
    "   \"execution_count\": 2,\n",
    "   \"metadata\": {\n",
    "    \"pycharm\": {\n",
    "     \"is_executing\": false,\n",
    "     \"name\": \"#%%\\n\"\n",
    "    }\n",
    "   },\n",
    "   \"outputs\": [],\n",
    "   \"source\": [\n",
    "    \"def line_chart(ax: plt.Axes, series: pd.Series, title: str, xlabel: str, ylabel: str, ymin: float, ymax: float):\\n\",\n",
    "    \"    ax.set_ylim(ymin, ymax)\\n\",\n",
    "    \"    ax.set_title(title)\\n\",\n",
    "    \"    ax.set_xlabel(xlabel)\\n\",\n",
    "    \"    ax.set_ylabel(ylabel)\\n\",\n",
    "    \"    ax.plot(series)\"\n",
    "   ]\n",
    "  },\n",
    "  {\n",
    "   \"cell_type\": \"code\",\n",
    "   \"execution_count\": 3,\n",
    "   \"metadata\": {\n",
    "    \"pycharm\": {\n",
    "     \"is_executing\": false,\n",
    "     \"name\": \"#%%\\n\"\n",
    "    }\n",
    "   },\n",
    "   \"outputs\": [],\n",
    "   \"source\": [\n",
    "    \"def multiple_line_chart(ax: plt.Axes, xvalues: list, yvalues: dict, title: str, xlabel: str, ylabel: str):\\n\",\n",
    "    \"    legend: list = []\\n\",\n",
    "    \"    ax.set_xlabel(xlabel)\\n\",\n",
    "    \"    ax.set_ylabel(ylabel)\\n\",\n",
    "    \"    ax.set_title(title)\\n\",\n",
    "    \"    for name, y in yvalues.items():\\n\",\n",
    "    \"        ax.plot(xvalues, y)\\n\",\n",
    "    \"        legend.append(name)\\n\",\n",
    "    \"    ax.legend(legend, loc='best', fancybox = True, shadow = True)    \"\n",
    "   ]\n",
    "  },\n",
    "  {\n",
    "   \"cell_type\": \"code\",\n",
    "   \"execution_count\": 4,\n",
    "   \"metadata\": {\n",
    "    \"pycharm\": {\n",
    "     \"is_executing\": false,\n",
    "     \"name\": \"#%%\\n\"\n",
    "    }\n",
    "   },\n",
    "   \"outputs\": [],\n",
    "   \"source\": [\n",
    "    \"def bar_chart(ax: plt.Axes, xvalues: list, yvalues: list, title: str, xlabel: str, ylabel: str):\\n\",\n",
    "    \"    ax.set_title(title)\\n\",\n",
    "    \"    ax.set_xlabel(xlabel)\\n\",\n",
    "    \"    ax.set_ylabel(ylabel)\\n\",\n",
    "    \"    ax.set_xticklabels(xvalues, rotation=90, fontsize='small')\\n\",\n",
    "    \"    ax.bar(xvalues, yvalues, edgecolor='grey', color='cyan')\"\n",
    "   ]\n",
    "  },\n",
    "  {\n",
    "   \"cell_type\": \"code\",\n",
    "   \"execution_count\": 5,\n",
    "   \"metadata\": {\n",
    "    \"pycharm\": {\n",
    "     \"is_executing\": false,\n",
    "     \"name\": \"#%%\\n\"\n",
    "    }\n",
    "   },\n",
    "   \"outputs\": [],\n",
    "   \"source\": [\n",
    "    \"import numpy as np\\n\",\n",
    "    \"def multiple_bar_chart(ax: plt.Axes, xvalues: list, yvalues: dict, title: str, xlabel: str, ylabel: str):\\n\",\n",
    "    \"    ax.set_title(title)\\n\",\n",
    "    \"    ax.set_xlabel(xlabel)\\n\",\n",
    "    \"    ax.set_ylabel(ylabel)\\n\",\n",
    "    \"    x = np.arange(len(xvalues))  # the label locations\\n\",\n",
    "    \"    ax.set_xticks(x)\\n\",\n",
    "    \"    ax.set_xticklabels(xvalues, fontsize='small')\\n\",\n",
    "    \"    width = 0.8  # the width of the bars\\n\",\n",
    "    \"    step = width / len(yvalues)\\n\",\n",
    "    \"    i = 0\\n\",\n",
    "    \"    for name, y in yvalues.items():\\n\",\n",
    "    \"        ax.bar(x + i * step, y, step, label=name)\\n\",\n",
    "    \"        i += 1\\n\",\n",
    "    \"    ax.legend(loc='lower center', ncol=len(yvalues), bbox_to_anchor=(0.5, -0.2), fancybox = True, shadow = True)    \\n\"\n",
    "   ]\n",
    "  }\n",
    " ],\n",
    " \"metadata\": {\n",
    "  \"kernelspec\": {\n",
    "   \"display_name\": \"Python 3\",\n",
    "   \"language\": \"python\",\n",
    "   \"name\": \"python3\"\n",
    "  },\n",
    "  \"language_info\": {\n",
    "   \"codemirror_mode\": {\n",
    "    \"name\": \"ipython\",\n",
    "    \"version\": 3\n",
    "   },\n",
    "   \"file_extension\": \".py\",\n",
    "   \"mimetype\": \"text/x-python\",\n",
    "   \"name\": \"python\",\n",
    "   \"nbconvert_exporter\": \"python\",\n",
    "   \"pygments_lexer\": \"ipython3\",\n",
    "   \"version\": \"3.7.3\"\n",
    "  },\n",
    "  \"pycharm\": {\n",
    "   \"stem_cell\": {\n",
    "    \"cell_type\": \"raw\",\n",
    "    \"source\": [],\n",
    "    \"metadata\": {\n",
    "     \"collapsed\": false\n",
    "    }\n",
    "   }\n",
    "  }\n",
    " },\n",
    " \"nbformat\": 4,\n",
    " \"nbformat_minor\": 1\n",
    "}"
   ],
   "metadata": {
    "collapsed": false,
    "pycharm": {
     "name": "#%%\n",
     "is_executing": false
    }
   }
  },
  {
   "cell_type": "markdown",
   "metadata": {},
   "source": [
    "<h4 style=\"font-family:Arial;color:#6c6c6c;font-size:20px;font-style:italic;\">Variables Distribution</h4>\n",
    "\n",
    "As seen above, getting the different values of a categorical variable is trivial, but the same does not fit numeric \n",
    "ones. Indeed, we don't want to see all values assumed by a real variable.\n",
    "\n",
    "For numeric variables, the way to inspect their range encompasses studying their minimum and maximum values, along \n",
    "with other estimators, like the mean, mode, standard deviation and other different percentiles, which allows for the best\n",
    "description of this kind of variables.\n",
    "\n",
    "The <code>describe</code> method, applied to the dataframe, gives the 5-number summary for each numeric variable."
   ]
  },
  {
   "cell_type": "code",
   "execution_count": null,
   "metadata": {
    "pycharm": {
     "is_executing": false,
     "name": "#%%\n"
    },
    "scrolled": true
   },
   "outputs": [],
   "source": [
    "data.describe()"
   ]
  },
  {
   "cell_type": "markdown",
   "metadata": {
    "pycharm": {
     "name": "#%% md\n"
    }
   },
   "source": [
    "Note that by default, the <code>describe</code> command only shows the summary for numeric variables. In order to \n",
    "inspect all of them, we can require all through <code>data.describe(include='all')</code>\n",
    "\n",
    "Those numbers alone, give all the information required, but it's not easy to interpret. A better way to understand the \n",
    "impact of such values is through the analysis of boxplots for each variable.\n",
    "\n",
    "In order to show such charts, we may use the <code>matplotlib</code> package, to define different routines for displaying \n",
    "the different charts needed to explore our data."
   ]
  },
  {
   "cell_type": "code",
   "execution_count": null,
   "metadata": {
    "pycharm": {
     "is_executing": false,
     "name": "#%%\n"
    },
    "scrolled": true
   },
   "outputs": [],
   "source": [
    "plt.figure(figsize=[10,7])\n",
    "data.boxplot()\n",
    "plt.show() "
   ]
  },
  {
   "cell_type": "markdown",
   "metadata": {},
   "source": [
    "Despite the ability to see the relations among the different value ranges for all variables, it is difficult to analyze \n",
    "each one in particular, due to the different scales.\n",
    "\n",
    "In order to address this difference, we can plot singular boxplots for each variable using <code>boxplot</code> methods\n",
    "from <code>matplotlib</code>."
   ]
  },
  {
   "cell_type": "code",
   "execution_count": null,
   "metadata": {
    "pycharm": {
     "is_executing": false
    },
    "scrolled": false
   },
   "outputs": [],
   "source": [
    "columns = data.select_dtypes(include='number').columns\n",
    "print(columns)\n",
    "rows, cols = func.choose_grid(len(columns))\n",
    "print(rows, cols)\n",
    "plt.figure()\n",
    "fig, axs = plt.subplots(rows, cols, figsize=(cols*4, rows*4))\n",
    "i, j = 0, 0\n",
    "for n in range(len(columns)):\n",
    "    axs[i, j].set_title('Boxplot for %s'%columns[n])\n",
    "    axs[i, j].boxplot(data[columns[n]].dropna().values)\n",
    "    i, j = (i + 1, 0) if (n+1) % cols == 0 else (i, j + 1)\n",
    "fig.tight_layout()\n",
    "plt.show()"
   ]
  },
  {
   "cell_type": "markdown",
   "metadata": {
    "pycharm": {
     "name": "#%% md\n"
    }
   },
   "source": [
    "Another possibility is to plot the histogram for each numeric variable, through the use of <code>hist</code> method."
   ]
  },
  {
   "cell_type": "code",
   "execution_count": null,
   "metadata": {
    "pycharm": {
     "is_executing": false,
     "name": "#%% \n"
    },
    "scrolled": false
   },
   "outputs": [],
   "source": [
    "columns = data.select_dtypes(include='number').columns\n",
    "rows, cols = func.choose_grid(len(columns))\n",
    "plt.figure()\n",
    "fig, axs = plt.subplots(rows, cols, figsize=(cols*4, rows*4))\n",
    "i, j = 0, 0\n",
    "for n in range(len(columns)):\n",
    "    axs[i, j].set_title('Histogram for %s'%columns[n])\n",
    "    axs[i, j].set_xlabel(columns[n])\n",
    "    axs[i, j].set_ylabel(\"probability\")\n",
    "    axs[i, j].hist(data[columns[n]].dropna().values, 'auto')\n",
    "    i, j = (i + 1, 0) if (n+1) % cols == 0 else (i, j + 1)\n",
    "fig.tight_layout()\n",
    "plt.show()"
   ]
  },
  {
   "cell_type": "markdown",
   "metadata": {},
   "source": [
    "Histograms for categorical variables may also be produced, just through the use of bar charts and counting the frequency\n",
    "of each value for each variable."
   ]
  },
  {
   "cell_type": "code",
   "execution_count": null,
   "metadata": {
    "pycharm": {
     "is_executing": false,
     "name": "#%%\n"
    }
   },
   "outputs": [],
   "source": [
    "columns = data.select_dtypes(include='category').columns\n",
    "rows, cols = func.choose_grid(len(columns))\n",
    "plt.figure()\n",
    "fig, axs = plt.subplots(rows, cols, figsize=(cols*4, rows*4))\n",
    "i, j = 0, 0\n",
    "for n in range(len(columns)):\n",
    "    counts = data[columns[n]].dropna().value_counts(normalize=True)\n",
    "    func.bar_chart(axs[i, j], counts.index, counts.values, 'Histogram for %s'%columns[n], columns[n], 'probability')\n",
    "    i, j = (i + 1, 0) if (n+1) % cols == 0 else (i, j + 1)\n",
    "fig.tight_layout()\n",
    "plt.show()"
   ]
  },
  {
   "cell_type": "markdown",
   "metadata": {},
   "source": [
    "Indeed histograms give us an insight about the distribution of each variable, but recognizing the distribution that \n",
    "best fits the data may be hard.\n",
    "<code>Seaborn</code> provides the <code>distplot</code> method to display the best fit for the variable. See for example \n",
    "the best fits for pH and Ammonium variables:"
   ]
  },
  {
   "cell_type": "code",
   "execution_count": null,
   "metadata": {
    "pycharm": {
     "is_executing": false,
     "name": "#%%\n"
    }
   },
   "outputs": [],
   "source": [
    "import seaborn as sns\n",
    "\n",
    "columns = data.select_dtypes(include='number').columns\n",
    "rows, cols = func.choose_grid(len(columns))\n",
    "plt.figure()\n",
    "fig, axs = plt.subplots(rows, cols, figsize=(cols*4, rows*4))\n",
    "i, j = 0, 0\n",
    "for n in range(len(columns)):\n",
    "    axs[i, j].set_title('Histogram with trend for %s'%columns[n])\n",
    "    axs[i, j].set_ylabel(\"probability\")\n",
    "    sns.distplot(data[columns[n]].dropna().values, norm_hist=True, ax=axs[i, j], axlabel=columns[n])\n",
    "    i, j = (i + 1, 0) if (n+1) % cols == 0 else (i, j + 1)\n",
    "fig.tight_layout()\n",
    "plt.show()"
   ]
  },
  {
   "cell_type": "markdown",
   "metadata": {
    "pycharm": {
     "name": "#%% md\n"
    }
   },
   "source": [
    "Despite the simplicity of this approach, we are not able to verify how much standard distributions fit to the data. \n",
    "In order to do that, we can try to fit different known distributions to it, using <code>scipy.stats</code> package\n",
    "functionalities to compute distributions (<code>norm, expon, skewnorm, etc</code>).\n",
    "Lets look at the histogram for the pH and Ammonium variables, and possible distributions..."
   ]
  },
  {
   "cell_type": "code",
   "execution_count": null,
   "metadata": {
    "pycharm": {
     "is_executing": false,
     "name": "#%%\n"
    }
   },
   "outputs": [],
   "source": [
    "import scipy.stats as _stats \n",
    "def compute_known_distributions(x_values, n_bins) -> dict:\n",
    "    distributions = dict()\n",
    "    # Gaussian\n",
    "    mean, sigma = _stats.norm.fit(x_values)\n",
    "    distributions['Normal(%.1f,%.2f)'%(mean,sigma)] = _stats.norm.pdf(x_values, mean, sigma)\n",
    "    # LogNorm\n",
    "  #  sigma, loc, scale = _stats.lognorm.fit(x_values)\n",
    "  #  distributions['LogNor(%.1f,%.2f)'%(np.log(scale),sigma)] = _stats.lognorm.pdf(x_values, sigma, loc, scale)\n",
    "    # Exponential\n",
    "    loc, scale = _stats.expon.fit(x_values)\n",
    "    distributions['Exp(%.2f)'%(1/scale)] = _stats.expon.pdf(x_values, loc, scale)\n",
    "    # SkewNorm\n",
    "   # a, loc, scale = _stats.skewnorm.fit(x_values)\n",
    "   # distributions['SkewNorm(%.2f)'%a] = _stats.skewnorm.pdf(x_values, a, loc, scale) \n",
    "    return distributions\n",
    "\n",
    "def histogram_with_distributions(ax: plt.Axes, series: pd.Series, var: str):\n",
    "    values = series.sort_values().values\n",
    "    n, bins, patches = ax.hist(values, 20, density=True, edgecolor='grey')\n",
    "    distributions = compute_known_distributions(values, bins)\n",
    "    func.multiple_line_chart(ax, values, distributions, 'Best fit for %s'%var, var, 'probability')\n",
    "\n",
    "columns = data.select_dtypes(include='number').columns\n",
    "rows, cols = func.choose_grid(len(columns))\n",
    "plt.figure()\n",
    "fig, axs = plt.subplots(rows, cols, figsize=(cols*4, rows*4))\n",
    "i, j = 0, 0\n",
    "for n in range(len(columns)):\n",
    "    histogram_with_distributions(axs[i, j], data[columns[n]].dropna(), columns[n])\n",
    "    i, j = (i + 1, 0) if (n+1) % cols == 0 else (i, j + 1)\n",
    "fig.tight_layout()\n",
    "plt.show()"
   ]
  },
  {
   "cell_type": "markdown",
   "metadata": {},
   "source": [
    "<h4 style=\"font-family:Arial;color:#6c6c6c;font-size:20px;font-style:italic;\">Granularity</h4>"
   ]
  },
  {
   "cell_type": "markdown",
   "metadata": {},
   "source": [
    "At last, the granularity at which we analyze each variable also plays a fundamental role. Indeed, when we plot the histogram for each variable, we have to determine the number of bins used to discretize the data. Until now, we used the default value for the <code>hist</code> method (<code>nbins='auto'</code>), which chooses it according to \n",
    "In the next figure, we show five different discretizations for each numeric variable. From these charts, we can se that each bin in the first discretization accumulates a large different frequent values. Comparing the first to the last one (with 5 and 90 bins, respectively) is easy to understand the differences shapes in the variable distribution.\n",
    "Naturaly, for a numeric variable, the highest the number of bins, closer it will be to the real distribution of the data. "
   ]
  },
  {
   "cell_type": "code",
   "execution_count": null,
   "metadata": {
    "pycharm": {
     "is_executing": false
    }
   },
   "outputs": [],
   "source": [
    "columns = data.select_dtypes(include='number').columns\n",
    "rows = len(columns)\n",
    "cols = 5\n",
    "plt.figure()\n",
    "fig, axs = plt.subplots(rows, cols, figsize=(cols*4, rows*4))\n",
    "bins = range(5, 100, 20)\n",
    "for i in range(len(columns)):\n",
    "    for j in range(len(bins)):\n",
    "        axs[i, j].set_title('Histogram for %s'%columns[i])\n",
    "        axs[i, j].set_xlabel(columns[i])\n",
    "        axs[i, j].set_ylabel(\"probability\")\n",
    "        axs[i, j].hist(data[columns[i]].dropna().values, bins[j])\n",
    "fig.tight_layout()\n",
    "plt.show()"
   ]
  },
  {
   "cell_type": "markdown",
   "metadata": {},
   "source": [
    "<h3 style=\"font-family:Arial;color:#6c6c6c;font-size:25px;\">Multi-Variate Analysis</h3>\n",
    "\n",
    "The multi-variate analysis encompasses the cross analysis of the instances projected to just a few of its variables (usually only two).\n",
    "In practice, these projections are achieved through bidimensional charts, visualizing one variable against another.\n",
    "\n",
    "<h4 style=\"font-family:Arial;color:#6c6c6c;font-size:20px;font-style:italic;\">Sparsity</h4>\n",
    "\n",
    "A dataset is said to be sparse when most of the space defined by its variables is not covered by the instances in the dataset.\n",
    "A way to have some insight over the sparsity of data is to use scatter plots to project the data along two of its defining variables. To do it, we can use the <code>scatter</code> method."
   ]
  },
  {
   "cell_type": "code",
   "execution_count": null,
   "metadata": {
    "pycharm": {
     "is_executing": false
    }
   },
   "outputs": [],
   "source": [
    "columns = data.select_dtypes(include='number').columns\n",
    "rows, cols = len(columns), len(columns)\n",
    "plt.figure()\n",
    "fig, axs = plt.subplots(rows, cols, figsize=(cols*4, rows*4))\n",
    "for i in range(len(columns)):\n",
    "    var1 = columns[i]\n",
    "    for j in range(i+1, len(columns)):\n",
    "        var2 = columns[j]\n",
    "        axs[i, j].set_title(\"%s x %s\"%(var1,var2))\n",
    "        axs[i, j].set_xlabel(var1)\n",
    "        axs[i, j].set_ylabel(var2)\n",
    "        axs[i, j].scatter(data[var1], data[var2])\n",
    "fig.tight_layout()\n",
    "plt.show()\n"
   ]
  },
  {
   "cell_type": "markdown",
   "metadata": {},
   "source": [
    "<h4 style=\"font-family:Arial;color:#6c6c6c;font-size:20px;font-style:italic;\">Correlation analysis</h4>\n",
    "\n",
    "Despite showing data sparsity, scatter plots are also usefull for showing the correlation among variables.\n",
    "However, in the presence of large dimensionality, a heatmap is easier to analyze.\n",
    "To do it, we can use the <code>heatmap</code> from the <code>seaborn</code> package."
   ]
  },
  {
   "cell_type": "code",
   "execution_count": null,
   "metadata": {
    "pycharm": {
     "is_executing": false,
     "name": "#%%\n"
    }
   },
   "outputs": [],
   "source": [
    "fig = plt.figure(figsize=[12, 12])\n",
    "corr_mtx = data.corr()\n",
    "sns.heatmap(corr_mtx, xticklabels=corr_mtx.columns, yticklabels=corr_mtx.columns, annot=True, cmap='Blues')\n",
    "plt.title('Correlation analysis')\n",
    "plt.show()"
   ]
  },
  {
   "cell_type": "markdown",
   "metadata": {
    "pycharm": {
     "name": "#%% md\n"
    }
   },
   "source": [
    "<table bgcolor=#ffffff align=\"center\" width=\"100%\" noborder>\n",
    "    <tr>\n",
    "        <td align=\"center\" width=\"30%\"><a href=\"Lab0.ipynb\"><img src=\"images/prev.png\"></a></td>\n",
    "        <td width=\"40%\"></td>\n",
    "        <td align=\"center\" width=\"30%\"><a href=\"Lab2.ipynb\"><img src=\"images/next.png\"></a></td>\n",
    "    </tr>\n",
    "</table>"
   ]
  }
 ],
 "metadata": {
  "kernelspec": {
   "display_name": "Python 3",
   "language": "python",
   "name": "python3"
  },
  "language_info": {
   "codemirror_mode": {
    "name": "ipython",
    "version": 3
   },
   "file_extension": ".py",
   "mimetype": "text/x-python",
   "name": "python",
   "nbconvert_exporter": "python",
   "pygments_lexer": "ipython3",
   "version": "3.7.3"
  },
  "pycharm": {
   "stem_cell": {
    "cell_type": "raw",
    "source": [],
    "metadata": {
     "collapsed": false
    }
   }
  }
 },
 "nbformat": 4,
 "nbformat_minor": 1
}